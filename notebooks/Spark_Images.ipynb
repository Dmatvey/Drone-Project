{
 "cells": [
  {
   "cell_type": "code",
   "execution_count": 37,
   "metadata": {},
   "outputs": [],
   "source": [
    "# libraries needed to start spark session\n",
    "import pyspark\n",
    "from pyspark.sql import SparkSession\n",
    "\n",
    "# for loading/processing the images  \n",
    "from keras.preprocessing.image import load_img \n",
    "from keras.preprocessing.image import img_to_array \n",
    "from keras.applications.vgg16 import preprocess_input\n",
    "\n",
    "# models \n",
    "from keras.applications.vgg16 import VGG16 \n",
    "from keras.models import Model\n",
    "\n",
    "# clustering and dimension reduction\n",
    "from sklearn.cluster import KMeans\n",
    "from sklearn.decomposition import PCA\n",
    "from sklearn.datasets import load_digits\n",
    "\n",
    "# for everything else\n",
    "import os\n",
    "import shutil\n",
    "import numpy as np\n",
    "import matplotlib.pyplot as plt\n",
    "from random import randint\n",
    "import pandas as pd\n",
    "from progressbar import ProgressBar\n",
    "import pickle"
   ]
  },
  {
   "cell_type": "code",
   "execution_count": 1,
   "metadata": {},
   "outputs": [
    {
     "data": {
      "text/html": [
       "\n",
       "            <div>\n",
       "                <p><b>SparkSession - in-memory</b></p>\n",
       "                \n",
       "        <div>\n",
       "            <p><b>SparkContext</b></p>\n",
       "\n",
       "            <p><a href=\"http://10.101.96.141:4040\">Spark UI</a></p>\n",
       "\n",
       "            <dl>\n",
       "              <dt>Version</dt>\n",
       "                <dd><code>v3.2.1</code></dd>\n",
       "              <dt>Master</dt>\n",
       "                <dd><code>local[*]</code></dd>\n",
       "              <dt>AppName</dt>\n",
       "                <dd><code>drones</code></dd>\n",
       "            </dl>\n",
       "        </div>\n",
       "        \n",
       "            </div>\n",
       "        "
      ],
      "text/plain": [
       "<pyspark.sql.session.SparkSession at 0x7faab4331b80>"
      ]
     },
     "execution_count": 1,
     "metadata": {},
     "output_type": "execute_result"
    }
   ],
   "source": [
    "# start new spark session\n",
    "spark = SparkSession.builder \\\n",
    "    .master(\"local[*]\") \\\n",
    "    .appName(\"drones\") \\\n",
    "    .getOrCreate()\n",
    "\n",
    "# to view events/jobs in current spark session:\n",
    "spark\n",
    "\n",
    "#spark.stop()"
   ]
  },
  {
   "cell_type": "code",
   "execution_count": 39,
   "metadata": {},
   "outputs": [
    {
     "name": "stdout",
     "output_type": "stream",
     "text": [
      "root\n",
      " |-- path: string (nullable = true)\n",
      " |-- modificationTime: timestamp (nullable = true)\n",
      " |-- length: long (nullable = true)\n",
      " |-- content: binary (nullable = true)\n",
      "\n"
     ]
    }
   ],
   "source": [
    "# read in as binary\n",
    "df1 = spark.read.format(\"binaryFile\") \\\n",
    "    .option(\"pathGlobFilter\", \"*.png\") \\\n",
    "    .option(\"recursiveFileLookup\", \"true\") \\\n",
    "    .load(\"D:\\Drone_project\\training\\00001.png\")\n",
    "df1.printSchema()"
   ]
  },
  {
   "cell_type": "code",
   "execution_count": 40,
   "metadata": {
    "scrolled": true
   },
   "outputs": [
    {
     "name": "stdout",
     "output_type": "stream",
     "text": [
      "+--------------------+--------------------+-------+--------------------+\n",
      "|                path|    modificationTime| length|             content|\n",
      "+--------------------+--------------------+-------+--------------------+\n",
      "|file:/Users/Simbo...|2022-03-10 15:16:...|2175304|[89 50 4E 47 0D 0...|\n",
      "|file:/Users/Simbo...|2022-03-10 15:16:...|2174852|[89 50 4E 47 0D 0...|\n",
      "+--------------------+--------------------+-------+--------------------+\n",
      "only showing top 2 rows\n",
      "\n"
     ]
    }
   ],
   "source": [
    "df1.show(2)"
   ]
  },
  {
   "cell_type": "code",
   "execution_count": 41,
   "metadata": {
    "scrolled": false
   },
   "outputs": [],
   "source": [
    "df2 = df1.rdd.map(lambda x: x[\"content\"])"
   ]
  },
  {
   "cell_type": "code",
   "execution_count": 42,
   "metadata": {},
   "outputs": [
    {
     "data": {
      "text/plain": [
       "36"
      ]
     },
     "execution_count": 42,
     "metadata": {},
     "output_type": "execute_result"
    }
   ],
   "source": [
    "n_images = df2.count()\n",
    "n_images"
   ]
  },
  {
   "cell_type": "code",
   "execution_count": 43,
   "metadata": {
    "scrolled": true
   },
   "outputs": [],
   "source": [
    "content = df2.take(n_images)"
   ]
  },
  {
   "cell_type": "code",
   "execution_count": 44,
   "metadata": {},
   "outputs": [],
   "source": [
    "# Using the VGG16 model from keras\n",
    "# https://keras.io/api/applications/vgg/#vgg16-function\n",
    "model = VGG16()\n",
    "model = Model(inputs = model.inputs, outputs = model.layers[-2].output)"
   ]
  },
  {
   "cell_type": "code",
   "execution_count": 49,
   "metadata": {},
   "outputs": [],
   "source": [
    "# https://github.com/keras-team/keras/issues/11684\n",
    "from PIL import Image\n",
    "import io\n",
    "\n",
    "data = {}\n",
    "\n",
    "for i in range(n_images):\n",
    "    try:\n",
    "        img = Image.open(io.BytesIO(content[i]))\n",
    "        img1 = img.convert('RGB')\n",
    "        img1 = img1.resize((224,224))\n",
    "    \n",
    "        img2 = np.array(img1)\n",
    "        reshaped_img = img2.reshape(1,224,224,3)\n",
    "        imgx = preprocess_input(reshaped_img)\n",
    "        features = model.predict(imgx, use_multiprocessing=True)\n",
    "        data[i] = features\n",
    "    \n",
    "    # if something fails, save the extracted features as a pickle file (optional)\n",
    "    except:\n",
    "        with open(\"/Users/Simbo/Desktop/Spring 2022/SE413/airborne-detection-starter-kit/data/test.pkl\",'wb') as file:\n",
    "            pickle.dump(data,file)\n",
    "            \n",
    "with open('data.pickle','wb') as file:\n",
    "    pickle.dump(data,file)"
   ]
  },
  {
   "cell_type": "code",
   "execution_count": 47,
   "metadata": {},
   "outputs": [],
   "source": [
    "with open('data.pickle','rb') as file:\n",
    "    data = pickle.load(file)"
   ]
  },
  {
   "cell_type": "code",
   "execution_count": 50,
   "metadata": {},
   "outputs": [
    {
     "data": {
      "text/plain": [
       "{0: array([[0.42480665, 0.36689585, 2.7618694 , ..., 0.        , 0.        ,\n",
       "         0.        ]], dtype=float32),\n",
       " 1: array([[0.51456   , 0.92237103, 2.6840706 , ..., 0.        , 0.        ,\n",
       "         0.        ]], dtype=float32),\n",
       " 2: array([[0.5638341 , 0.43064106, 2.708096  , ..., 0.        , 0.        ,\n",
       "         0.        ]], dtype=float32),\n",
       " 3: array([[0.42203388, 0.7266675 , 2.7904391 , ..., 0.        , 0.        ,\n",
       "         0.        ]], dtype=float32),\n",
       " 4: array([[0.09426183, 0.12920922, 2.623754  , ..., 0.        , 0.        ,\n",
       "         0.        ]], dtype=float32),\n",
       " 5: array([[0.24795407, 0.08083811, 2.9164834 , ..., 0.        , 0.        ,\n",
       "         0.        ]], dtype=float32),\n",
       " 6: array([[0.3037884 , 0.5939039 , 2.876521  , ..., 0.        , 0.        ,\n",
       "         0.04715949]], dtype=float32),\n",
       " 7: array([[0.00524414, 0.0911229 , 2.5493188 , ..., 0.        , 0.        ,\n",
       "         0.        ]], dtype=float32),\n",
       " 8: array([[0.3168396 , 1.7976341 , 3.1377063 , ..., 0.67525864, 0.        ,\n",
       "         0.09446323]], dtype=float32),\n",
       " 9: array([[0.3556403 , 1.2889053 , 3.3641477 , ..., 0.29116344, 0.        ,\n",
       "         0.01868272]], dtype=float32),\n",
       " 10: array([[0.14940804, 1.0579377 , 3.0292864 , ..., 0.46166947, 0.        ,\n",
       "         0.        ]], dtype=float32),\n",
       " 11: array([[0.15229711, 0.13846126, 2.794743  , ..., 0.        , 0.        ,\n",
       "         0.        ]], dtype=float32),\n",
       " 12: array([[0.51943415, 0.73683417, 2.6529045 , ..., 0.20097086, 0.        ,\n",
       "         0.        ]], dtype=float32),\n",
       " 13: array([[0.10309839, 1.7244359 , 3.0890784 , ..., 0.49886018, 0.        ,\n",
       "         0.17872298]], dtype=float32),\n",
       " 14: array([[0.5921924 , 1.7933593 , 3.0109825 , ..., 0.15683323, 0.        ,\n",
       "         0.14270955]], dtype=float32),\n",
       " 15: array([[0.51769805, 1.7727816 , 3.1228595 , ..., 0.37140977, 0.        ,\n",
       "         0.12366873]], dtype=float32),\n",
       " 16: array([[0.4146842 , 1.7073203 , 3.1475577 , ..., 0.9282646 , 0.        ,\n",
       "         0.05773681]], dtype=float32),\n",
       " 17: array([[0.34243605, 1.612022  , 3.2209764 , ..., 0.84081876, 0.        ,\n",
       "         0.10282755]], dtype=float32),\n",
       " 18: array([[0.3722498 , 1.6646154 , 3.0879674 , ..., 0.79622364, 0.        ,\n",
       "         0.        ]], dtype=float32),\n",
       " 19: array([[0.4117669 , 1.6846344 , 3.1731162 , ..., 0.69178355, 0.        ,\n",
       "         0.23873183]], dtype=float32),\n",
       " 20: array([[0.43634218, 1.5968605 , 3.0573516 , ..., 0.7629727 , 0.        ,\n",
       "         0.3213131 ]], dtype=float32),\n",
       " 21: array([[0.74897337, 1.5178307 , 3.0374684 , ..., 0.40391976, 0.        ,\n",
       "         0.17802447]], dtype=float32),\n",
       " 22: array([[0.38843536, 1.4653136 , 2.9343824 , ..., 0.7573515 , 0.        ,\n",
       "         0.31880352]], dtype=float32),\n",
       " 23: array([[0.46944964, 1.5483615 , 2.9862227 , ..., 0.7361996 , 0.        ,\n",
       "         0.25852534]], dtype=float32),\n",
       " 24: array([[1.0781456 , 1.6831878 , 3.0857277 , ..., 0.59960973, 0.        ,\n",
       "         0.21061707]], dtype=float32),\n",
       " 25: array([[1.3146224 , 1.7043009 , 2.9101152 , ..., 0.39054847, 0.        ,\n",
       "         0.17574987]], dtype=float32),\n",
       " 26: array([[1.320926  , 1.6634848 , 3.037908  , ..., 0.5847643 , 0.        ,\n",
       "         0.17106387]], dtype=float32),\n",
       " 27: array([[1.8639224 , 1.595151  , 3.435408  , ..., 0.7677562 , 0.        ,\n",
       "         0.42413068]], dtype=float32),\n",
       " 28: array([[1.2521679 , 1.4480307 , 3.407579  , ..., 0.20876145, 0.        ,\n",
       "         0.6587574 ]], dtype=float32),\n",
       " 29: array([[1.8334638 , 1.8131341 , 3.4280062 , ..., 0.91114235, 0.        ,\n",
       "         0.40811956]], dtype=float32),\n",
       " 30: array([[1.3042982 , 1.4852252 , 3.4313302 , ..., 0.26650536, 0.        ,\n",
       "         0.65481037]], dtype=float32),\n",
       " 31: array([[1.9066932 , 2.042473  , 3.6311107 , ..., 0.40600893, 0.        ,\n",
       "         0.47833976]], dtype=float32),\n",
       " 32: array([[1.4252231 , 1.653806  , 3.0608916 , ..., 0.58895916, 0.        ,\n",
       "         0.27556932]], dtype=float32),\n",
       " 33: array([[2.15346  , 1.690547 , 3.405239 , ..., 0.6734873, 0.       ,\n",
       "         0.5140825]], dtype=float32),\n",
       " 34: array([[1.5141261, 1.7288572, 3.4938712, ..., 0.       , 0.       ,\n",
       "         0.66369  ]], dtype=float32),\n",
       " 35: array([[1.7189013 , 1.8307391 , 3.6171107 , ..., 0.29296577, 0.        ,\n",
       "         0.5303085 ]], dtype=float32)}"
      ]
     },
     "execution_count": 50,
     "metadata": {},
     "output_type": "execute_result"
    }
   ],
   "source": [
    "data"
   ]
  },
  {
   "cell_type": "code",
   "execution_count": 61,
   "metadata": {},
   "outputs": [],
   "source": [
    "feat = np.array(list(data.values())).reshape(-1,4096)\n",
    "pca = PCA(n_components = 36, random_state = 22)\n",
    "pca.fit(feat)\n",
    "x = pca.transform(feat)"
   ]
  },
  {
   "cell_type": "code",
   "execution_count": 62,
   "metadata": {},
   "outputs": [
    {
     "name": "stdout",
     "output_type": "stream",
     "text": [
      "Components before PCA: 4096\n",
      "Components after PCA: 36\n"
     ]
    }
   ],
   "source": [
    "print(\"Components before PCA:\", feat.shape[1])\n",
    "print(\"Components after PCA:\", pca.n_components)"
   ]
  },
  {
   "cell_type": "code",
   "execution_count": 63,
   "metadata": {},
   "outputs": [
    {
     "data": {
      "text/plain": [
       "KMeans(n_clusters=4, random_state=22)"
      ]
     },
     "execution_count": 63,
     "metadata": {},
     "output_type": "execute_result"
    }
   ],
   "source": [
    "kmeans = KMeans(n_clusters=4, random_state=22)\n",
    "kmeans.fit(x)"
   ]
  },
  {
   "cell_type": "code",
   "execution_count": 64,
   "metadata": {},
   "outputs": [
    {
     "data": {
      "text/plain": [
       "array([0, 0, 0, 3, 0, 0, 3, 0, 3, 3, 3, 0, 3, 3, 3, 1, 1, 1, 1, 1, 1, 1,\n",
       "       1, 1, 1, 1, 2, 2, 2, 2, 2, 2, 2, 2, 2, 2], dtype=int32)"
      ]
     },
     "execution_count": 64,
     "metadata": {},
     "output_type": "execute_result"
    }
   ],
   "source": [
    "kmeans.labels_"
   ]
  },
  {
   "cell_type": "code",
   "execution_count": 66,
   "metadata": {},
   "outputs": [
    {
     "data": {
      "text/plain": [
       "[15, 16, 17, 18, 19, 20, 21, 22, 23, 24, 25]"
      ]
     },
     "execution_count": 66,
     "metadata": {},
     "output_type": "execute_result"
    }
   ],
   "source": [
    "# holds the cluster id and the images { id: [images] }\n",
    "\n",
    "groups = {}\n",
    "for file, cluster in zip(data.keys(),kmeans.labels_):\n",
    "    if cluster not in groups.keys():\n",
    "        groups[cluster] = []\n",
    "        groups[cluster].append(file)\n",
    "    else:\n",
    "        groups[cluster].append(file)\n",
    "groups[1]"
   ]
  },
  {
   "cell_type": "code",
   "execution_count": null,
   "metadata": {},
   "outputs": [],
   "source": [
    "# Create folders for each cluster in host\n",
    "for i in range(len(unique_labels)):\n",
    "    # makeadir() evaluates your condition\n",
    "    out_path = 'D:\\Clusters\\{}'.format(i)\n",
    "    if not os.path.exists(out_path):\n",
    "        os.mkdir(out_path)"
   ]
  },
  {
   "cell_type": "code",
   "execution_count": null,
   "metadata": {},
   "outputs": [],
   "source": [
    "pbar = ProgressBar()"
   ]
  },
  {
   "cell_type": "code",
   "execution_count": null,
   "metadata": {},
   "outputs": [],
   "source": [
    "# Put all images of each cluster into thier respective folders on host for examination\n",
    "source_path = r\"D:\\training\"\n",
    "# Create array from images in source path\n",
    "source_list = []\n",
    "for images in os.scandir(source_path):\n",
    "        source_list.append(images)\n",
    "# For loor copies images over into the clustered folders\n",
    "for i in pbar2(range(len(kmeans.labels_))):\n",
    "    folder = kmeans.labels_[i]\n",
    "    out_path = r'D:\\Clusters\\{}'.format(folder)\n",
    "    image_select = source_list[i]\n",
    "    shutil.copy(image_select, out_path)"
   ]
  },
  {
   "cell_type": "code",
   "execution_count": 67,
   "metadata": {},
   "outputs": [],
   "source": [
    "# this is just incase you want to see which value for k might be the best \n",
    "sse = []\n",
    "list_k = list(range(2, 12))"
   ]
  },
  {
   "cell_type": "code",
   "execution_count": 68,
   "metadata": {},
   "outputs": [],
   "source": [
    "for k in list_k:\n",
    "    km = KMeans(n_clusters=k, random_state=22)\n",
    "    km.fit(x)\n",
    "    \n",
    "    sse.append(km.inertia_)"
   ]
  },
  {
   "cell_type": "code",
   "execution_count": 69,
   "metadata": {},
   "outputs": [
    {
     "data": {
      "image/png": "[encoded data removed]",
      "text/plain": [
       "<Figure size 432x432 with 1 Axes>"
      ]
     },
     "metadata": {
      "needs_background": "light"
     },
     "output_type": "display_data"
    }
   ],
   "source": [
    "# Plot sse against k\n",
    "plt.figure(figsize=(6, 6))\n",
    "plt.plot(list_k, sse)\n",
    "plt.xlabel(r'Number of clusters *k*')\n",
    "plt.ylabel('Sum of squared distance');"
   ]
  },
  {
   "cell_type": "code",
   "execution_count": null,
   "metadata": {},
   "outputs": [],
   "source": []
  },
  {
   "cell_type": "code",
   "execution_count": 9,
   "metadata": {},
   "outputs": [],
   "source": [
    "from keras.applications.vgg16 import preprocess_input\n",
    "import numpy as np\n",
    "\n",
    "img2 = np.array(img1)\n",
    "reshaped_img = img2.reshape(1,224,224,3)\n",
    "imgx = preprocess_input(reshaped_img)"
   ]
  },
  {
   "cell_type": "code",
   "execution_count": 12,
   "metadata": {},
   "outputs": [
    {
     "data": {
      "image/png": "[encoded data removed]",
      "text/plain": [
       "<PIL.Image.Image image mode=RGB size=224x224 at 0x7FAAB378C5B0>"
      ]
     },
     "execution_count": 12,
     "metadata": {},
     "output_type": "execute_result"
    }
   ],
   "source": [
    "from keras.preprocessing.image import load_img \n",
    "img1 = load_img(\"/Users/Simbo/Desktop/Spring 2022/SE413/airborne-detection-starter-kit/data/part1/Images/part1570826a12876427ca77c045424de1f51/1538148607237886629570826a12876427ca77c045424de1f51.png\", target_size=(224,224))\n",
    "img2 = np.array(img1)\n",
    "reshaped_img = img2.reshape(1,224,224,3)\n",
    "imgx = preprocess_input(reshaped_img)\n",
    "img1"
   ]
  },
  {
   "cell_type": "code",
   "execution_count": null,
   "metadata": {},
   "outputs": [],
   "source": [
    "def extract_features(file, model):\n",
    "    # load the image as a 224x224 array\n",
    "    img = load_img(file, target_size=(224,224))\n",
    "    # convert from 'PIL.Image.Image' to numpy array\n",
    "    img = np.array(img)\n",
    "    # reshape the data for the model reshape(num_of_samples, dim 1, dim 2, channels)\n",
    "    reshaped_img = img.reshape(1,224,224,3)\n",
    "    # prepare image for model\n",
    "    imgx = preprocess_input(reshaped_img)\n",
    "    # get the feature vector\n",
    "    features = model.predict(imgx, use_multiprocessing=True)\n",
    "    return features"
   ]
  },
  {
   "cell_type": "code",
   "execution_count": null,
   "metadata": {},
   "outputs": [],
   "source": [
    "# lop through each image in the dataset\n",
    "data = {}\n",
    "p = r\"D:\\features.pkl\"\n",
    "pbar = ProgressBar()\n",
    "for drone_image in pbar(drone_images):\n",
    "    # try to extract the features and update the dictionary\n",
    "    try:\n",
    "        feat = extract_features(drone_image,model)\n",
    "        data[drone_image] = feat\n",
    "    # if something fails, save the extracted features as a pickle file (optional)\n",
    "    except:\n",
    "        with open(p,'wb') as file:\n",
    "            pickle.dump(data,file)"
   ]
  },
  {
   "cell_type": "code",
   "execution_count": null,
   "metadata": {},
   "outputs": [],
   "source": []
  },
  {
   "cell_type": "code",
   "execution_count": null,
   "metadata": {},
   "outputs": [],
   "source": [
    "with open('data.pickle','wb') as file:\n",
    "            pickle.dump(data,file)"
   ]
  },
  {
   "cell_type": "code",
   "execution_count": null,
   "metadata": {},
   "outputs": [],
   "source": [
    "with open('data.pickle','rb') as file:\n",
    "    data = pickle.load(file)"
   ]
  },
  {
   "cell_type": "code",
   "execution_count": null,
   "metadata": {},
   "outputs": [],
   "source": []
  },
  {
   "cell_type": "code",
   "execution_count": null,
   "metadata": {},
   "outputs": [],
   "source": [
    "# https://docs.delta.io/latest/quick-start.html\n",
    "import pyspark\n",
    "from delta import *\n",
    "\n",
    "builder = pyspark.sql.SparkSession.builder.appName(\"drones\") \\\n",
    "    .config(\"spark.sql.extensions\", \"io.delta.sql.DeltaSparkSessionExtension\") \\\n",
    "    .config(\"spark.sql.catalog.spark_catalog\", \"org.apache.spark.sql.delta.catalog.DeltaCatalog\")\n",
    "\n",
    "spark = configure_spark_with_delta_pip(builder).getOrCreate()"
   ]
  },
  {
   "cell_type": "code",
   "execution_count": null,
   "metadata": {},
   "outputs": [],
   "source": [
    "# https://stackoverflow.com/questions/67705881/unable-to-read-images-simultaneously-in-parallels-using-pyspark\n",
    "from pyspark.ml.image import ImageSchema\n",
    "import numpy as np\n",
    "\n",
    "# Pre-caching the required schema. If you remove this line an error will be raised.\n",
    "ImageSchema.imageFields\n",
    "\n",
    "# Transforming images to np.array\n",
    "arrays = df1.rdd.map(ImageSchema.toNDArray).collect()\n",
    "\n",
    "img = np.array(arrays)\n",
    "print(img.shape)"
   ]
  },
  {
   "cell_type": "code",
   "execution_count": null,
   "metadata": {},
   "outputs": [],
   "source": [
    "import sparkdl\n",
    "df = sparkdl.readImages(\"/Users/Simbo/Desktop/Spring 2022/SE413/airborne-detection-starter-kit/data/part1/Images/part1570826a12876427ca77c045424de1f51\")"
   ]
  }
 ],
 "metadata": {
  "kernelspec": {
   "display_name": "Python 3",
   "language": "python",
   "name": "python3"
  },
  "language_info": {
   "codemirror_mode": {
    "name": "ipython",
    "version": 3
   },
   "file_extension": ".py",
   "mimetype": "text/x-python",
   "name": "python",
   "nbconvert_exporter": "python",
   "pygments_lexer": "ipython3",
   "version": "3.6.9"
  }
 },
 "nbformat": 4,
 "nbformat_minor": 5
}
