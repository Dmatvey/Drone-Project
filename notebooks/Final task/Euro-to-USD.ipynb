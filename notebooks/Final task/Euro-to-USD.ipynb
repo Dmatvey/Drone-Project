{
 "cells": [
  {
   "cell_type": "code",
   "execution_count": null,
   "id": "6eb3226b",
   "metadata": {},
   "outputs": [],
   "source": [
    "import pandas as pd\n",
    "import numpy as np\n",
    "import plotly.graph_objects as go\n",
    "import plotly.express as px\n",
    "from jupyter_dash import JupyterDash\n",
    "from dash import dcc\n",
    "from dash import html\n",
    "from dash.dependencies import Input, Output\n",
    "import time"
   ]
  },
  {
   "cell_type": "code",
   "execution_count": null,
   "id": "b93a48ca",
   "metadata": {},
   "outputs": [],
   "source": [
    "i = 0\n",
    "while True:\n",
    "    file = pd.read_csv(\"OpenPrices.csv\").tail(20)\n",
    "\n",
    "    date = file[\"time\"]\n",
    "    open_price = file[\"open_price\"]\n",
    "    fig = go.Figure(data=go.Scatter(x=date, y=open_price, line=go.scatter.Line(color=\"black\", width=2)))\n",
    "    fig.update_layout(xaxis_title = \"Date/Time\", yaxis_title = \"Euro to USD Currency Exchange Rate\",\n",
    "        paper_bgcolor=\"white\", plot_bgcolor=\"white\", \n",
    "        font_family=\"Overpass\", font_size = 16, font_color = \"#434545\"\n",
    "    )\n",
    "    fig.update_xaxes(showline=True, linewidth=1, linecolor='black')\n",
    "    fig.update_yaxes(showline=True, linewidth=1, linecolor='black')\n",
    "    \n",
    "    app = JupyterDash(__name__)\n",
    "    \n",
    "    app.layout = html.Div([\n",
    "        html.H1(\"Euro to USD Currency Exchange Data\",\n",
    "               style={'font_family':'Overpass', 'textAlign': 'center', 'color': '#77a7bd', 'fontSize': 40}),\n",
    "        dcc.Graph(figure =fig)\n",
    "    ])\n",
    "    \n",
    "    if i == 0:\n",
    "        app.run_server(mode=\"external\")\n",
    "        \n",
    "    time.sleep(60)"
   ]
  }
 ],
 "metadata": {
  "kernelspec": {
   "display_name": "Python 3",
   "language": "python",
   "name": "python3"
  },
  "language_info": {
   "codemirror_mode": {
    "name": "ipython",
    "version": 3
   },
   "file_extension": ".py",
   "mimetype": "text/x-python",
   "name": "python",
   "nbconvert_exporter": "python",
   "pygments_lexer": "ipython3",
   "version": "3.8.8"
  }
 },
 "nbformat": 4,
 "nbformat_minor": 5
}
