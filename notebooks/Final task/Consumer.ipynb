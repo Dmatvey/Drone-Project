{
 "cells": [
  {
   "cell_type": "code",
   "execution_count": null,
   "id": "f583a654",
   "metadata": {},
   "outputs": [],
   "source": [
    "import pandas as pd\n",
    "from kafka import KafkaConsumer\n",
    "from datetime import datetime\n",
    "\n",
    "open_price = []\n",
    "time = []\n",
    "\n",
    "consumer = KafkaConsumer('sample')\n",
    "for message in consumer:\n",
    "    open_price.append(float(message.value.decode()))\n",
    "    now = datetime.now()\n",
    "    time.append(now)\n",
    "    df = pd.DataFrame({\"time\": time, \"open_price\": open_price})\n",
    "    df.to_csv(\"OpenPrices.csv\", index=False)"
   ]
  }
 ],
 "metadata": {
  "kernelspec": {
   "display_name": "Python 3",
   "language": "python",
   "name": "python3"
  },
  "language_info": {
   "codemirror_mode": {
    "name": "ipython",
    "version": 3
   },
   "file_extension": ".py",
   "mimetype": "text/x-python",
   "name": "python",
   "nbconvert_exporter": "python",
   "pygments_lexer": "ipython3",
   "version": "3.8.8"
  }
 },
 "nbformat": 4,
 "nbformat_minor": 5
}
