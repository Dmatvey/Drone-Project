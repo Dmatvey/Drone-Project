{
 "cells": [
  {
   "cell_type": "code",
   "execution_count": null,
   "id": "77493a2b",
   "metadata": {
    "scrolled": true
   },
   "outputs": [],
   "source": [
    "from kafka import KafkaProducer\n",
    "import yfinance as yf\n",
    "import time\n",
    "producer = KafkaProducer(bootstrap_servers='localhost:9092')\n",
    "while True:\n",
    "    data = yf.download(tickers = 'EURUSD=X' ,period ='1d', interval = '15m')\n",
    "\n",
    "    for row in data[\"Open\"]: \n",
    "        producer.send(topic='sample',\n",
    "                      value=str.encode(str(row)))\n",
    "        time.sleep(60)"
   ]
  }
 ],
 "metadata": {
  "kernelspec": {
   "display_name": "Python 3",
   "language": "python",
   "name": "python3"
  },
  "language_info": {
   "codemirror_mode": {
    "name": "ipython",
    "version": 3
   },
   "file_extension": ".py",
   "mimetype": "text/x-python",
   "name": "python",
   "nbconvert_exporter": "python",
   "pygments_lexer": "ipython3",
   "version": "3.8.8"
  }
 },
 "nbformat": 4,
 "nbformat_minor": 5
}
