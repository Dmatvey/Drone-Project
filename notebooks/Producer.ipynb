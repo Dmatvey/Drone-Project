{
 "cells": [
  {
   "cell_type": "code",
   "execution_count": 1,
   "metadata": {},
   "outputs": [
    {
     "ename": "FileNotFoundError",
     "evalue": "[Errno 2] No such file or directory: 'flat_groundtruth.csv'",
     "output_type": "error",
     "traceback": [
      "\u001b[0;31m---------------------------------------------------------------------------\u001b[0m",
      "\u001b[0;31mFileNotFoundError\u001b[0m                         Traceback (most recent call last)",
      "\u001b[0;32m<ipython-input-1-2feaed5fe9b1>\u001b[0m in \u001b[0;36m<module>\u001b[0;34m\u001b[0m\n\u001b[1;32m      4\u001b[0m \u001b[0;34m\u001b[0m\u001b[0m\n\u001b[1;32m      5\u001b[0m \u001b[0mproducer\u001b[0m \u001b[0;34m=\u001b[0m \u001b[0mKafkaProducer\u001b[0m\u001b[0;34m(\u001b[0m\u001b[0mbootstrap_servers\u001b[0m\u001b[0;34m=\u001b[0m\u001b[0;34m'localhost:9092'\u001b[0m\u001b[0;34m)\u001b[0m\u001b[0;34m\u001b[0m\u001b[0;34m\u001b[0m\u001b[0m\n\u001b[0;32m----> 6\u001b[0;31m \u001b[0;32mwith\u001b[0m \u001b[0mopen\u001b[0m\u001b[0;34m(\u001b[0m\u001b[0;34m\"flat_groundtruth.csv\"\u001b[0m\u001b[0;34m)\u001b[0m \u001b[0;32mas\u001b[0m \u001b[0mfile\u001b[0m\u001b[0;34m:\u001b[0m\u001b[0;34m\u001b[0m\u001b[0;34m\u001b[0m\u001b[0m\n\u001b[0m\u001b[1;32m      7\u001b[0m     \u001b[0mreader\u001b[0m \u001b[0;34m=\u001b[0m \u001b[0mcsv\u001b[0m\u001b[0;34m.\u001b[0m\u001b[0mDictReader\u001b[0m\u001b[0;34m(\u001b[0m\u001b[0mfile\u001b[0m\u001b[0;34m,\u001b[0m \u001b[0mdelimiter\u001b[0m\u001b[0;34m=\u001b[0m\u001b[0;34m\",\"\u001b[0m\u001b[0;34m)\u001b[0m\u001b[0;34m\u001b[0m\u001b[0;34m\u001b[0m\u001b[0m\n\u001b[1;32m      8\u001b[0m     \u001b[0;32mfor\u001b[0m \u001b[0mrow\u001b[0m \u001b[0;32min\u001b[0m \u001b[0mreader\u001b[0m\u001b[0;34m:\u001b[0m\u001b[0;34m\u001b[0m\u001b[0;34m\u001b[0m\u001b[0m\n",
      "\u001b[0;31mFileNotFoundError\u001b[0m: [Errno 2] No such file or directory: 'flat_groundtruth.csv'"
     ]
    }
   ],
   "source": [
    "import csv\n",
    "import re\n",
    "from kafka import KafkaProducer\n",
    "\n",
    "producer = KafkaProducer(bootstrap_servers='localhost:9092')\n",
    "with open(\"flat_groundtruth.csv\") as file:\n",
    "    reader = csv.DictReader(file, delimiter=\",\")\n",
    "    for row in reader:\n",
    "        producer.send(topic='sample', \n",
    "                      value=str.encode(re.sub(\"\\d\", \"\", list(row.values())[4])).lower())\n",
    "        producer.flush()"
   ]
  },
  {
   "cell_type": "code",
   "execution_count": 10,
   "metadata": {},
   "outputs": [
    {
     "name": "stdout",
     "output_type": "stream",
     "text": [
      "1.0648492574691772\n",
      "1.0650761127471924\n",
      "1.0649627447128296\n",
      "1.0648492574691772\n",
      "1.064736008644104\n",
      "1.0648492574691772\n",
      "1.0642826557159424\n",
      "1.064056158065796\n",
      "1.064736008644104\n",
      "1.0643960237503052\n",
      "1.0646226406097412\n",
      "1.0639430284500122\n",
      "1.0651895999908447\n",
      "1.065303087234497\n",
      "1.0648492574691772\n",
      "1.0649627447128296\n",
      "1.064056158065796\n",
      "1.0642826557159424\n",
      "1.0645092725753784\n",
      "1.0645092725753784\n",
      "1.0648492574691772\n",
      "1.0642826557159424\n",
      "1.0645092725753784\n",
      "1.0650761127471924\n",
      "1.064736008644104\n"
     ]
    }
   ],
   "source": [
    "for row in data[\"Open\"]:\n",
    "    print(row)"
   ]
  },
  {
   "cell_type": "code",
   "execution_count": 40,
   "metadata": {
    "scrolled": true
   },
   "outputs": [
    {
     "name": "stdout",
     "output_type": "stream",
     "text": [
      "[*********************100%***********************]  1 of 1 completed\n",
      "[*********************100%***********************]  1 of 1 completed\n",
      "[*********************100%***********************]  1 of 1 completed\n",
      "[*********************100%***********************]  1 of 1 completed\n",
      "[*********************100%***********************]  1 of 1 completed\n",
      "[*********************100%***********************]  1 of 1 completed\n",
      "[*********************100%***********************]  1 of 1 completed\n"
     ]
    },
    {
     "ename": "KeyboardInterrupt",
     "evalue": "",
     "output_type": "error",
     "traceback": [
      "\u001b[0;31m---------------------------------------------------------------------------\u001b[0m",
      "\u001b[0;31mKeyboardInterrupt\u001b[0m                         Traceback (most recent call last)",
      "\u001b[0;32m<ipython-input-40-e530fd2abb10>\u001b[0m in \u001b[0;36m<module>\u001b[0;34m\u001b[0m\n\u001b[1;32m      9\u001b[0m             producer.send(topic='sample',\n\u001b[1;32m     10\u001b[0m                 value=str.encode(str(row)))\n\u001b[0;32m---> 11\u001b[0;31m         \u001b[0mtime\u001b[0m\u001b[0;34m.\u001b[0m\u001b[0msleep\u001b[0m\u001b[0;34m(\u001b[0m\u001b[0;36m3\u001b[0m\u001b[0;34m)\u001b[0m\u001b[0;34m\u001b[0m\u001b[0;34m\u001b[0m\u001b[0m\n\u001b[0m",
      "\u001b[0;31mKeyboardInterrupt\u001b[0m: "
     ]
    }
   ],
   "source": [
    "import yfinance as yf\n",
    "import time\n",
    "\n",
    "while True:\n",
    "    data = yf.download(tickers = 'EURUSD=X' ,period ='1d', interval = '1m')\n",
    " #for col in data[\"Open\"]:\n",
    "    for col in data:\n",
    "        for row in data[col]: \n",
    "            producer.send(topic='sample',\n",
    "                value=str.encode(str(row)))\n",
    "        time.sleep(3)"
   ]
  },
  {
   "cell_type": "code",
   "execution_count": 25,
   "metadata": {
    "scrolled": true
   },
   "outputs": [
    {
     "data": {
      "text/html": [
       "<div>\n",
       "<style scoped>\n",
       "    .dataframe tbody tr th:only-of-type {\n",
       "        vertical-align: middle;\n",
       "    }\n",
       "\n",
       "    .dataframe tbody tr th {\n",
       "        vertical-align: top;\n",
       "    }\n",
       "\n",
       "    .dataframe thead th {\n",
       "        text-align: right;\n",
       "    }\n",
       "</style>\n",
       "<table border=\"1\" class=\"dataframe\">\n",
       "  <thead>\n",
       "    <tr style=\"text-align: right;\">\n",
       "      <th></th>\n",
       "      <th>Open</th>\n",
       "      <th>High</th>\n",
       "      <th>Low</th>\n",
       "      <th>Close</th>\n",
       "      <th>Adj Close</th>\n",
       "      <th>Volume</th>\n",
       "    </tr>\n",
       "    <tr>\n",
       "      <th>Datetime</th>\n",
       "      <th></th>\n",
       "      <th></th>\n",
       "      <th></th>\n",
       "      <th></th>\n",
       "      <th></th>\n",
       "      <th></th>\n",
       "    </tr>\n",
       "  </thead>\n",
       "  <tbody>\n",
       "    <tr>\n",
       "      <th>2022-04-27 00:00:00+01:00</th>\n",
       "      <td>1.064849</td>\n",
       "      <td>1.064849</td>\n",
       "      <td>1.064849</td>\n",
       "      <td>1.064849</td>\n",
       "      <td>1.064849</td>\n",
       "      <td>0</td>\n",
       "    </tr>\n",
       "    <tr>\n",
       "      <th>2022-04-27 00:01:00+01:00</th>\n",
       "      <td>1.064736</td>\n",
       "      <td>1.064736</td>\n",
       "      <td>1.064736</td>\n",
       "      <td>1.064736</td>\n",
       "      <td>1.064736</td>\n",
       "      <td>0</td>\n",
       "    </tr>\n",
       "    <tr>\n",
       "      <th>2022-04-27 00:02:00+01:00</th>\n",
       "      <td>1.064736</td>\n",
       "      <td>1.064736</td>\n",
       "      <td>1.064736</td>\n",
       "      <td>1.064736</td>\n",
       "      <td>1.064736</td>\n",
       "      <td>0</td>\n",
       "    </tr>\n",
       "    <tr>\n",
       "      <th>2022-04-27 00:03:00+01:00</th>\n",
       "      <td>1.064736</td>\n",
       "      <td>1.064736</td>\n",
       "      <td>1.064736</td>\n",
       "      <td>1.064736</td>\n",
       "      <td>1.064736</td>\n",
       "      <td>0</td>\n",
       "    </tr>\n",
       "    <tr>\n",
       "      <th>2022-04-27 00:04:00+01:00</th>\n",
       "      <td>1.064736</td>\n",
       "      <td>1.064736</td>\n",
       "      <td>1.064736</td>\n",
       "      <td>1.064736</td>\n",
       "      <td>1.064736</td>\n",
       "      <td>0</td>\n",
       "    </tr>\n",
       "  </tbody>\n",
       "</table>\n",
       "</div>"
      ],
      "text/plain": [
       "                               Open      High       Low     Close  Adj Close  \\\n",
       "Datetime                                                                       \n",
       "2022-04-27 00:00:00+01:00  1.064849  1.064849  1.064849  1.064849   1.064849   \n",
       "2022-04-27 00:01:00+01:00  1.064736  1.064736  1.064736  1.064736   1.064736   \n",
       "2022-04-27 00:02:00+01:00  1.064736  1.064736  1.064736  1.064736   1.064736   \n",
       "2022-04-27 00:03:00+01:00  1.064736  1.064736  1.064736  1.064736   1.064736   \n",
       "2022-04-27 00:04:00+01:00  1.064736  1.064736  1.064736  1.064736   1.064736   \n",
       "\n",
       "                           Volume  \n",
       "Datetime                           \n",
       "2022-04-27 00:00:00+01:00       0  \n",
       "2022-04-27 00:01:00+01:00       0  \n",
       "2022-04-27 00:02:00+01:00       0  \n",
       "2022-04-27 00:03:00+01:00       0  \n",
       "2022-04-27 00:04:00+01:00       0  "
      ]
     },
     "execution_count": 25,
     "metadata": {},
     "output_type": "execute_result"
    }
   ],
   "source": [
    "data.head()"
   ]
  },
  {
   "cell_type": "code",
   "execution_count": 7,
   "metadata": {},
   "outputs": [
    {
     "data": {
      "text/plain": [
       "<kafka.producer.future.FutureRecordMetadata at 0x7ff3c00a89e8>"
      ]
     },
     "execution_count": 7,
     "metadata": {},
     "output_type": "execute_result"
    }
   ],
   "source": [
    "producer.send(topic=\"sample\", value=b\"Hello\")"
   ]
  },
  {
   "cell_type": "code",
   "execution_count": null,
   "metadata": {},
   "outputs": [],
   "source": []
  }
 ],
 "metadata": {
  "kernelspec": {
   "display_name": "Python 3",
   "language": "python",
   "name": "python3"
  },
  "language_info": {
   "codemirror_mode": {
    "name": "ipython",
    "version": 3
   },
   "file_extension": ".py",
   "mimetype": "text/x-python",
   "name": "python",
   "nbconvert_exporter": "python",
   "pygments_lexer": "ipython3",
   "version": "3.6.9"
  }
 },
 "nbformat": 4,
 "nbformat_minor": 5
}
