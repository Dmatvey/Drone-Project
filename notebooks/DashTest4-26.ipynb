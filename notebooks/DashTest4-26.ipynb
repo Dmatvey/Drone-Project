{
 "cells": [
  {
   "cell_type": "code",
   "execution_count": 2,
   "metadata": {},
   "outputs": [
    {
     "ename": "ModuleNotFoundError",
     "evalue": "No module named 'plotly'",
     "output_type": "error",
     "traceback": [
      "\u001b[0;31m---------------------------------------------------------------------------\u001b[0m",
      "\u001b[0;31mModuleNotFoundError\u001b[0m                       Traceback (most recent call last)",
      "\u001b[0;32m<ipython-input-2-3dbd9eeb371c>\u001b[0m in \u001b[0;36m<module>\u001b[0;34m\u001b[0m\n\u001b[1;32m      1\u001b[0m \u001b[0;32mimport\u001b[0m \u001b[0mpandas\u001b[0m \u001b[0;32mas\u001b[0m \u001b[0mpd\u001b[0m\u001b[0;34m\u001b[0m\u001b[0;34m\u001b[0m\u001b[0m\n\u001b[1;32m      2\u001b[0m \u001b[0;32mimport\u001b[0m \u001b[0mnumpy\u001b[0m \u001b[0;32mas\u001b[0m \u001b[0mnp\u001b[0m\u001b[0;34m\u001b[0m\u001b[0;34m\u001b[0m\u001b[0m\n\u001b[0;32m----> 3\u001b[0;31m \u001b[0;32mimport\u001b[0m \u001b[0mplotly\u001b[0m\u001b[0;34m.\u001b[0m\u001b[0mgraph_objects\u001b[0m \u001b[0;32mas\u001b[0m \u001b[0mgo\u001b[0m\u001b[0;34m\u001b[0m\u001b[0;34m\u001b[0m\u001b[0m\n\u001b[0m\u001b[1;32m      4\u001b[0m \u001b[0;32mimport\u001b[0m \u001b[0mplotly\u001b[0m\u001b[0;34m.\u001b[0m\u001b[0mexpress\u001b[0m \u001b[0;32mas\u001b[0m \u001b[0mpx\u001b[0m\u001b[0;34m\u001b[0m\u001b[0;34m\u001b[0m\u001b[0m\n\u001b[1;32m      5\u001b[0m \u001b[0;32mfrom\u001b[0m \u001b[0mjupyter_dash\u001b[0m \u001b[0;32mimport\u001b[0m \u001b[0mJupyterDash\u001b[0m\u001b[0;34m\u001b[0m\u001b[0;34m\u001b[0m\u001b[0m\n",
      "\u001b[0;31mModuleNotFoundError\u001b[0m: No module named 'plotly'"
     ]
    }
   ],
   "source": [
    "import pandas as pd\n",
    "import numpy as np\n",
    "import plotly.graph_objects as go\n",
    "import plotly.express as px\n",
    "from jupyter_dash import JupyterDash\n",
    "from dash import dcc\n",
    "from dash import html\n",
    "from dash.dependencies import Input, Output"
   ]
  },
  {
   "cell_type": "code",
   "execution_count": 2,
   "metadata": {},
   "outputs": [],
   "source": [
    "import json\n",
    "groundtruth = \"../ImageSets/groundtruth.json\"\n",
    "\n",
    "pt1 = open(groundtruth).read()\n",
    "groundtruth = json.loads(pt1)"
   ]
  },
  {
   "cell_type": "code",
   "execution_count": 3,
   "metadata": {},
   "outputs": [],
   "source": [
    "flight_ids = sorted(groundtruth[\"samples\"].keys())\n",
    "our_flights = flight_ids[0:394]"
   ]
  },
  {
   "cell_type": "code",
   "execution_count": 4,
   "metadata": {},
   "outputs": [],
   "source": [
    "##### PART 1 #####\n",
    "# Unnest JSON and store information in data frame\n",
    "# initialize dictionary\n",
    "flight_dict = {}\n",
    "\n",
    "# initialize variables to store entity items\n",
    "flight_id = 0\n",
    "frame = -1\n",
    "object_id = \"No Object\"\n",
    "img_name = \"No Image\"\n",
    "distance_m = -1\n",
    "\n",
    "# initialize empty list\n",
    "list1 = []\n",
    "\n",
    "# loop through flights and save flight id as \"key\" and the nested structure as the \"value\"\n",
    "for f_id in our_flights:\n",
    "    flight = groundtruth[\"samples\"][f_id]\n",
    "    flight_dict[f_id] = flight\n",
    "    \n",
    "    # loop through each entity for each frame and save information to different variables\n",
    "    for entity in flight[\"entities\"]:\n",
    "        \n",
    "        flight_id = entity[\"flight_id\"] if \"flight_id\" in entity else 0\n",
    "        frame = entity[\"blob\"][\"frame\"] if \"frame\" in entity[\"blob\"] else -1\n",
    "        object_id = entity[\"id\"] if \"id\" in entity else \"No Object\"\n",
    "        img_name = entity[\"img_name\"] if \"img_name\" in entity else \"No Image\"\n",
    "        distance_m = entity[\"blob\"][\"range_distance_m\"] if \"range_distance_m\" in entity[\"blob\"] else -1\n",
    "        list1.append([\"part1\", flight_id, img_name, frame, object_id, distance_m])\n",
    "\n",
    "# convert lists to a pandas data frame\n",
    "cols = [\"folder\", \"flight_id\", \"img_name\", \"frame\", \"object_id\", \"distance_m\"]\n",
    "df_pt1 = pd.DataFrame(list1, columns = cols)"
   ]
  },
  {
   "cell_type": "code",
   "execution_count": 5,
   "metadata": {},
   "outputs": [],
   "source": [
    "file = df_pt1"
   ]
  },
  {
   "cell_type": "code",
   "execution_count": 8,
   "metadata": {},
   "outputs": [
    {
     "name": "stdout",
     "output_type": "stream",
     "text": [
      "Dash app running on http://127.0.0.1:8050/\n"
     ]
    }
   ],
   "source": [
    "app = JupyterDash(__name__)\n",
    "app.layout = html.Div([\n",
    "    html.H1(\"Airborne Object Appearances\"),\n",
    "    dcc.Graph(id = 'graph'),\n",
    "    html.Label([\n",
    "        \"Please select the object you'd like to color:\",\n",
    "        dcc.Dropdown(\n",
    "            id = \"objects\", clearable=False,\n",
    "            value=\"Helicopter\", options=[\n",
    "                {\"label\":c, \"value\":c}\n",
    "                for c in file[\"object_id\"].unique()\n",
    "            ])\n",
    "    ]),\n",
    "])\n",
    "@app.callback(\n",
    "    Output('graph', 'figure'),\n",
    "    [Input(\"objects\", \"value\")]\n",
    ")\n",
    "#file['color'] = 'red' if object_id == objects\n",
    "def update_figure(drones):\n",
    "    return px.bar(\n",
    "        file,\n",
    "        x = file[\"object_id\"].value_counts(),\n",
    "        y = file[\"object_id\"].unique(),\n",
    "        #color=\"color\",\n",
    "        #color_discrete_sequence=file.color.unique(),\n",
    "        orientation = \"h\",\n",
    "        labels = {\"x\": \"Number of Frames\", \"y\": \"Airborne Object\"},\n",
    "        text_auto = \".2s\",\n",
    "        title=\"Number of Frame Appearances by Object\"\n",
    "    )\n",
    "def update_layout(drones):\n",
    "    return px.bar.update_layout(title = dict(x=0.5), paper_bgcolor=\"#3269a8\")\n",
    "app.run_server(mode='external')"
   ]
  },
  {
   "cell_type": "code",
   "execution_count": 10,
   "metadata": {},
   "outputs": [],
   "source": [
    "??app.run_server"
   ]
  }
 ],
 "metadata": {
  "kernelspec": {
   "display_name": "Python 3",
   "language": "python",
   "name": "python3"
  },
  "language_info": {
   "codemirror_mode": {
    "name": "ipython",
    "version": 3
   },
   "file_extension": ".py",
   "mimetype": "text/x-python",
   "name": "python",
   "nbconvert_exporter": "python",
   "pygments_lexer": "ipython3",
   "version": "3.6.9"
  }
 },
 "nbformat": 4,
 "nbformat_minor": 4
}
