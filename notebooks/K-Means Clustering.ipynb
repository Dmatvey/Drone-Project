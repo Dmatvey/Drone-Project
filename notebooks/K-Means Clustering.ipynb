{
 "cells": [
  {
   "cell_type": "code",
   "execution_count": 1,
   "metadata": {
    "scrolled": true
   },
   "outputs": [
    {
     "data": {
      "text/html": [
       "\n",
       "            <div>\n",
       "                <p><b>SparkSession - in-memory</b></p>\n",
       "                \n",
       "        <div>\n",
       "            <p><b>SparkContext</b></p>\n",
       "\n",
       "            <p><a href=\"http://8a191f3ece30:4041\">Spark UI</a></p>\n",
       "\n",
       "            <dl>\n",
       "              <dt>Version</dt>\n",
       "                <dd><code>v3.0.1</code></dd>\n",
       "              <dt>Master</dt>\n",
       "                <dd><code>local[*]</code></dd>\n",
       "              <dt>AppName</dt>\n",
       "                <dd><code>drones</code></dd>\n",
       "            </dl>\n",
       "        </div>\n",
       "        \n",
       "            </div>\n",
       "        "
      ],
      "text/plain": [
       "<pyspark.sql.session.SparkSession at 0x7fae888d1c18>"
      ]
     },
     "execution_count": 1,
     "metadata": {},
     "output_type": "execute_result"
    }
   ],
   "source": [
    "#libraries needed to start spark session\n",
    "import pyspark\n",
    "from pyspark.sql import SparkSession\n",
    "\n",
    "#Start new spark sessioin\n",
    "spark = SparkSession.builder \\\n",
    "    .master(\"local[*]\") \\\n",
    "    .appName(\"drones\") \\\n",
    "    .getOrCreate()\n",
    "\n",
    "#to view events/jobs in current spark session:\n",
    "spark"
   ]
  },
  {
   "cell_type": "code",
   "execution_count": 2,
   "metadata": {},
   "outputs": [],
   "source": [
    "# for loading/processing the images  \n",
    "from keras.preprocessing.image import load_img \n",
    "from keras.preprocessing.image import img_to_array \n",
    "from keras.applications.vgg16 import preprocess_input\n",
    "\n",
    "from progressbar import ProgressBar\n",
    "\n",
    "# models \n",
    "from keras.applications.vgg16 import VGG16 \n",
    "from keras.models import Model\n",
    "\n",
    "# clustering and dimension reduction\n",
    "from sklearn.cluster import KMeans\n",
    "from sklearn.decomposition import PCA\n",
    "\n",
    "# for everything else\n",
    "import os\n",
    "import shutil\n",
    "import numpy as np\n",
    "import matplotlib.pyplot as plt\n",
    "from random import randint\n",
    "import pandas as pd\n",
    "import pickle"
   ]
  },
  {
   "cell_type": "code",
   "execution_count": 3,
   "metadata": {},
   "outputs": [],
   "source": [
    "path = r\"/home/developer/notebooks/training\""
   ]
  },
  {
   "cell_type": "code",
   "execution_count": 4,
   "metadata": {},
   "outputs": [],
   "source": [
    "# change the working directory to the path where the images are located\n",
    "os.chdir(path)"
   ]
  },
  {
   "cell_type": "code",
   "execution_count": 5,
   "metadata": {},
   "outputs": [],
   "source": [
    "# this list holds all the image filename\n",
    "drone_images = []"
   ]
  },
  {
   "cell_type": "code",
   "execution_count": 6,
   "metadata": {},
   "outputs": [],
   "source": [
    "path2 = r\"/home/developer/notebooks/Images\"\n",
    "new_folder = r\"/home/developer/notebooks/training\""
   ]
  },
  {
   "cell_type": "code",
   "execution_count": 7,
   "metadata": {
    "scrolled": true
   },
   "outputs": [],
   "source": [
    "#read in as binary\n",
    "df1 = spark.read.format(\"binaryFile\").option(\"pathGlobFilter\", \"*.png\").option(\"recursiveFileLookup\", \"true\").load(path2)"
   ]
  },
  {
   "cell_type": "code",
   "execution_count": 8,
   "metadata": {},
   "outputs": [
    {
     "name": "stdout",
     "output_type": "stream",
     "text": [
      "0011f3f114a741b5b02326c9e96e597a\n",
      "0001ba865c8e410e88609541b8f55ffc\n",
      "DroneDownloadTest\n",
      "0036dcc16c474b1abaf14d1735a7e1cf\n",
      "001578c6c6b340738c9277fcb1307e34\n"
     ]
    }
   ],
   "source": [
    "filepaths = []\n",
    "for list_of_flights  in os.listdir(path2):\n",
    "    filepaths.append(list_of_flights)\n",
    "    print(list_of_flights)"
   ]
  },
  {
   "cell_type": "code",
   "execution_count": 70,
   "metadata": {},
   "outputs": [
    {
     "ename": "IndexError",
     "evalue": "list index out of range",
     "output_type": "error",
     "traceback": [
      "\u001b[0;31m---------------------------------------------------------------------------\u001b[0m",
      "\u001b[0;31mIndexError\u001b[0m                                Traceback (most recent call last)",
      "\u001b[0;32m<ipython-input-70-21f36ddc80b7>\u001b[0m in \u001b[0;36m<module>\u001b[0;34m\u001b[0m\n\u001b[1;32m     10\u001b[0m     \u001b[0;32mfor\u001b[0m \u001b[0mimages\u001b[0m \u001b[0;32min\u001b[0m \u001b[0mos\u001b[0m\u001b[0;34m.\u001b[0m\u001b[0mlistdir\u001b[0m\u001b[0;34m(\u001b[0m\u001b[0mpath3\u001b[0m\u001b[0;34m)\u001b[0m\u001b[0;34m:\u001b[0m\u001b[0;34m\u001b[0m\u001b[0;34m\u001b[0m\u001b[0m\n\u001b[1;32m     11\u001b[0m         \u001b[0mimages_list\u001b[0m\u001b[0;34m.\u001b[0m\u001b[0mappend\u001b[0m\u001b[0;34m(\u001b[0m\u001b[0mimages\u001b[0m\u001b[0;34m)\u001b[0m\u001b[0;34m\u001b[0m\u001b[0;34m\u001b[0m\u001b[0m\n\u001b[0;32m---> 12\u001b[0;31m     \u001b[0mfirst_image\u001b[0m \u001b[0;34m=\u001b[0m \u001b[0mimages_list\u001b[0m\u001b[0;34m[\u001b[0m\u001b[0;36m0\u001b[0m\u001b[0;34m]\u001b[0m\u001b[0;34m\u001b[0m\u001b[0;34m\u001b[0m\u001b[0m\n\u001b[0m\u001b[1;32m     13\u001b[0m     \u001b[0mtemp_path\u001b[0m \u001b[0;34m=\u001b[0m \u001b[0;34mr\"/home/developer/notebooks/Images/{}/{}\"\u001b[0m\u001b[0;34m.\u001b[0m\u001b[0mformat\u001b[0m\u001b[0;34m(\u001b[0m\u001b[0mflights\u001b[0m\u001b[0;34m,\u001b[0m\u001b[0mfirst_image\u001b[0m\u001b[0;34m)\u001b[0m\u001b[0;34m\u001b[0m\u001b[0;34m\u001b[0m\u001b[0m\n\u001b[1;32m     14\u001b[0m     \u001b[0mshutil\u001b[0m\u001b[0;34m.\u001b[0m\u001b[0mmove\u001b[0m\u001b[0;34m(\u001b[0m\u001b[0mstr\u001b[0m\u001b[0;34m(\u001b[0m\u001b[0mtemp_path\u001b[0m\u001b[0;34m)\u001b[0m\u001b[0;34m,\u001b[0m \u001b[0mstr\u001b[0m\u001b[0;34m(\u001b[0m\u001b[0mnew_folder\u001b[0m\u001b[0;34m)\u001b[0m\u001b[0;34m)\u001b[0m\u001b[0;34m\u001b[0m\u001b[0;34m\u001b[0m\u001b[0m\n",
      "\u001b[0;31mIndexError\u001b[0m: list index out of range"
     ]
    }
   ],
   "source": [
    "# Copy first and last image of each flight into the training folder\n",
    "\n",
    "import shutil\n",
    "\n",
    "test_folder = \"D:\\Drone_project\\Test_folder\"\n",
    "\n",
    "images_list = []\n",
    "for flights in filepaths:\n",
    "    path3 = r\"/home/developer/notebooks/Images/{}\".format(flights)\n",
    "    for images in os.listdir(path3):\n",
    "        images_list.append(images)\n",
    "    first_image = images_list[0]\n",
    "    temp_path = r\"/home/developer/notebooks/Images/{}/{}\".format(flights,first_image)\n",
    "    shutil.move(str(temp_path), str(new_folder))\n",
    "    length = len(images_list)\n",
    "    last_image = images_list[length-2]\n",
    "    temp_path = r\"/home/developer/notebooks/Images/{}/{}\".format(flights,last_image)\n",
    "    shutil.copy(str(temp_path), str(new_folder))\n",
    "    images_list.clear()"
   ]
  },
  {
   "cell_type": "code",
   "execution_count": 71,
   "metadata": {},
   "outputs": [],
   "source": [
    "drone_images.clear()"
   ]
  },
  {
   "cell_type": "code",
   "execution_count": 72,
   "metadata": {},
   "outputs": [],
   "source": [
    "# creates a ScandirIterator aliased as files\n",
    "with os.scandir(path) as files:\n",
    "  # loops through each file in the directory\n",
    "    for file in files:\n",
    "        if file.name.endswith('.png'):\n",
    "          # adds only the image files to the flowers list\n",
    "            drone_images.append(file.name)"
   ]
  },
  {
   "cell_type": "code",
   "execution_count": 73,
   "metadata": {
    "scrolled": true
   },
   "outputs": [
    {
     "name": "stdout",
     "output_type": "stream",
     "text": [
      "['15549774652384706770001ba865c8e410e88609541b8f55ffc.png', '15294400118148667240022217d1ed446e9a3a5fef13d33facf.png', '15549774598149642470001ba865c8e410e88609541b8f55ffc.png', '15549773592757756650001ba865c8e410e88609541b8f55ffc.png', '15553432393330373570011f3f114a741b5b02326c9e96e597a.png', '15549774280552598100001ba865c8e410e88609541b8f55ffc.png', '15553432567166323700011f3f114a741b5b02326c9e96e597a.png', '15294400520892604650022217d1ed446e9a3a5fef13d33facf.png', '15294400049202706410022217d1ed446e9a3a5fef13d33facf.png', '15553433222057935310011f3f114a741b5b02326c9e96e597a.png', '15549774166389630360001ba865c8e410e88609541b8f55ffc.png', '15294401101527582580022217d1ed446e9a3a5fef13d33facf.png', '15294400635819053640022217d1ed446e9a3a5fef13d33facf.png', '15553432646401391020011f3f114a741b5b02326c9e96e597a.png', '15553432447237162700011f3f114a741b5b02326c9e96e597a.png', '15553432980887055330011f3f114a741b5b02326c9e96e597a.png', '15553432836988979750011f3f114a741b5b02326c9e96e597a.png', '15553432511193191220011f3f114a741b5b02326c9e96e597a.png', '15553432456303524930011f3f114a741b5b02326c9e96e597a.png', '15549774347584746610001ba865c8e410e88609541b8f55ffc.png', '15294400135241633900022217d1ed446e9a3a5fef13d33facf.png', '15294401026577431840022217d1ed446e9a3a5fef13d33facf.png', '15549774408232032770001ba865c8e410e88609541b8f55ffc.png', '15553432551203524430011f3f114a741b5b02326c9e96e597a.png', '15553432883955728060011f3f114a741b5b02326c9e96e597a.png']\n"
     ]
    }
   ],
   "source": [
    "# view the first 10 flower entries\n",
    "print(drone_images[:50000])"
   ]
  },
  {
   "cell_type": "code",
   "execution_count": 74,
   "metadata": {},
   "outputs": [],
   "source": [
    "model = VGG16()\n",
    "model = Model(inputs = model.inputs, outputs = model.layers[-2].output)"
   ]
  },
  {
   "cell_type": "code",
   "execution_count": 75,
   "metadata": {},
   "outputs": [],
   "source": [
    "pbar = ProgressBar()"
   ]
  },
  {
   "cell_type": "code",
   "execution_count": 76,
   "metadata": {},
   "outputs": [],
   "source": [
    "def extract_features(file, model):\n",
    "    # load the image as a 224x224 array\n",
    "    img = load_img(file, target_size=(224,224))\n",
    "    # convert from 'PIL.Image.Image' to numpy array\n",
    "    img = np.array(img) \n",
    "    # reshape the data for the model reshape(num_of_samples, dim 1, dim 2, channels)\n",
    "    reshaped_img = img.reshape(1,224,224,3) \n",
    "    # prepare image for model\n",
    "    imgx = preprocess_input(reshaped_img)\n",
    "    # get the feature vector\n",
    "    features = model.predict(imgx, use_multiprocessing=True)\n",
    "    return features"
   ]
  },
  {
   "cell_type": "code",
   "execution_count": 77,
   "metadata": {},
   "outputs": [],
   "source": [
    "data = {}\n",
    "p = r\"D:\\features.pkl\""
   ]
  },
  {
   "cell_type": "code",
   "execution_count": 78,
   "metadata": {},
   "outputs": [
    {
     "name": "stderr",
     "output_type": "stream",
     "text": [
      "100% |########################################################################|\n"
     ]
    }
   ],
   "source": [
    "# lop through each image in the dataset\n",
    "for drone_image in pbar(drone_images):\n",
    "    # try to extract the features and update the dictionary\n",
    "    try:\n",
    "        feat = extract_features(drone_image,model)\n",
    "        data[drone_image] = feat\n",
    "    # if something fails, save the extracted features as a pickle file (optional)\n",
    "    except:\n",
    "        with open(p,'wb') as file:\n",
    "            pickle.dump(data,file)"
   ]
  },
  {
   "cell_type": "code",
   "execution_count": 79,
   "metadata": {},
   "outputs": [
    {
     "name": "stdout",
     "output_type": "stream",
     "text": [
      "{'15549774652384706770001ba865c8e410e88609541b8f55ffc.png': array([[0.        , 0.05287528, 1.1765428 , ..., 0.15742964, 0.        ,\n",
      "        1.354462  ]], dtype=float32), '15294400118148667240022217d1ed446e9a3a5fef13d33facf.png': array([[0.730053  , 0.45315245, 1.5010012 , ..., 0.        , 1.7685864 ,\n",
      "        0.        ]], dtype=float32), '15549774598149642470001ba865c8e410e88609541b8f55ffc.png': array([[0., 0., 0., ..., 0., 0., 0.]], dtype=float32), '15549773592757756650001ba865c8e410e88609541b8f55ffc.png': array([[0.        , 0.        , 0.        , ..., 2.3583908 , 0.        ,\n",
      "        0.56139284]], dtype=float32), '15553432393330373570011f3f114a741b5b02326c9e96e597a.png': array([[0.05496085, 0.59734917, 1.4190555 , ..., 0.44367275, 0.36790827,\n",
      "        0.23756641]], dtype=float32), '15549774280552598100001ba865c8e410e88609541b8f55ffc.png': array([[0.        , 0.        , 0.01273894, ..., 1.2279968 , 0.        ,\n",
      "        0.        ]], dtype=float32), '15553432567166323700011f3f114a741b5b02326c9e96e597a.png': array([[0.       , 0.5768133, 1.3622341, ..., 1.8019586, 0.       ,\n",
      "        0.3429477]], dtype=float32), '15294400520892604650022217d1ed446e9a3a5fef13d33facf.png': array([[1.84384  , 4.2473054, 1.3891764, ..., 0.       , 0.       ,\n",
      "        0.       ]], dtype=float32), '15294400049202706410022217d1ed446e9a3a5fef13d33facf.png': array([[2.3609953 , 0.47046143, 1.1768394 , ..., 0.        , 0.        ,\n",
      "        0.        ]], dtype=float32), '15553433222057935310011f3f114a741b5b02326c9e96e597a.png': array([[0.       , 1.5629294, 1.0159822, ..., 0.       , 0.       ,\n",
      "        1.289537 ]], dtype=float32), '15549774166389630360001ba865c8e410e88609541b8f55ffc.png': array([[0.        , 0.        , 0.11967903, ..., 0.7098774 , 0.        ,\n",
      "        0.        ]], dtype=float32), '15294401101527582580022217d1ed446e9a3a5fef13d33facf.png': array([[0.29618797, 1.5889933 , 2.6585927 , ..., 0.        , 1.0717301 ,\n",
      "        0.        ]], dtype=float32), '15294400635819053640022217d1ed446e9a3a5fef13d33facf.png': array([[0.5404088, 0.7186165, 1.9183801, ..., 1.8754821, 0.       ,\n",
      "        0.       ]], dtype=float32), '15553432646401391020011f3f114a741b5b02326c9e96e597a.png': array([[0.        , 1.3603412 , 1.9730881 , ..., 1.5988221 , 0.5170183 ,\n",
      "        0.18133643]], dtype=float32), '15553432447237162700011f3f114a741b5b02326c9e96e597a.png': array([[0.        , 1.3086867 , 1.9552257 , ..., 0.86600137, 0.5546508 ,\n",
      "        0.        ]], dtype=float32), '15553432980887055330011f3f114a741b5b02326c9e96e597a.png': array([[0.        , 0.11216575, 1.0947177 , ..., 0.7369797 , 0.06408262,\n",
      "        0.58355737]], dtype=float32), '15553432836988979750011f3f114a741b5b02326c9e96e597a.png': array([[0.        , 0.6020723 , 1.5003259 , ..., 1.2641973 , 0.14709738,\n",
      "        0.        ]], dtype=float32), '15553432511193191220011f3f114a741b5b02326c9e96e597a.png': array([[0.        , 1.0539329 , 1.8150023 , ..., 0.32750553, 0.9365313 ,\n",
      "        0.        ]], dtype=float32), '15553432456303524930011f3f114a741b5b02326c9e96e597a.png': array([[0.       , 0.80076  , 1.6261735, ..., 0.4176494, 0.4541707,\n",
      "        0.       ]], dtype=float32), '15549774347584746610001ba865c8e410e88609541b8f55ffc.png': array([[0.        , 0.        , 0.        , ..., 1.5958917 , 0.08395761,\n",
      "        0.        ]], dtype=float32), '15294400135241633900022217d1ed446e9a3a5fef13d33facf.png': array([[0.81731534, 0.        , 1.5488292 , ..., 0.        , 0.        ,\n",
      "        0.26012316]], dtype=float32), '15294401026577431840022217d1ed446e9a3a5fef13d33facf.png': array([[1.0117984, 1.3233722, 2.629218 , ..., 0.3081662, 1.3238263,\n",
      "        0.       ]], dtype=float32), '15549774408232032770001ba865c8e410e88609541b8f55ffc.png': array([[0.        , 0.        , 0.06850648, ..., 1.4124417 , 0.        ,\n",
      "        0.        ]], dtype=float32), '15553432551203524430011f3f114a741b5b02326c9e96e597a.png': array([[0.3344782 , 0.20766792, 1.9609303 , ..., 1.0861707 , 0.        ,\n",
      "        0.02963281]], dtype=float32), '15553432883955728060011f3f114a741b5b02326c9e96e597a.png': array([[0.       , 0.       , 0.6819854, ..., 1.2563758, 0.0922353,\n",
      "        0.0546748]], dtype=float32)}\n"
     ]
    }
   ],
   "source": [
    "print(data)"
   ]
  },
  {
   "cell_type": "code",
   "execution_count": 80,
   "metadata": {},
   "outputs": [],
   "source": [
    "with open('data1.pickle','wb') as file:\n",
    "    pickle.dump(data,file)"
   ]
  },
  {
   "cell_type": "code",
   "execution_count": 7,
   "metadata": {},
   "outputs": [
    {
     "data": {
      "text/plain": [
       "'D:\\\\training\\\\data1.pickle'"
      ]
     },
     "execution_count": 7,
     "metadata": {},
     "output_type": "execute_result"
    }
   ],
   "source": [
    "os.path.abspath(\"data1.pickle\")"
   ]
  },
  {
   "cell_type": "code",
   "execution_count": 8,
   "metadata": {},
   "outputs": [],
   "source": [
    "with open('data1.pickle','rb') as file:\n",
    "    data = pickle.load(file)"
   ]
  },
  {
   "cell_type": "code",
   "execution_count": 81,
   "metadata": {},
   "outputs": [],
   "source": [
    "# get a list of the filenames\n",
    "filenames = np.array(list(data.keys()))"
   ]
  },
  {
   "cell_type": "code",
   "execution_count": 82,
   "metadata": {},
   "outputs": [],
   "source": [
    "# get a list of just the features\n",
    "feat = np.array(list(data.values()))"
   ]
  },
  {
   "cell_type": "code",
   "execution_count": 83,
   "metadata": {},
   "outputs": [
    {
     "data": {
      "text/plain": [
       "(25, 1, 4096)"
      ]
     },
     "execution_count": 83,
     "metadata": {},
     "output_type": "execute_result"
    }
   ],
   "source": [
    "feat.shape"
   ]
  },
  {
   "cell_type": "code",
   "execution_count": 84,
   "metadata": {},
   "outputs": [],
   "source": [
    "# reshape so that there are 210 samples of 4096 vectors\n",
    "feat = feat.reshape(-1,4096)"
   ]
  },
  {
   "cell_type": "code",
   "execution_count": 14,
   "metadata": {},
   "outputs": [],
   "source": [
    "# get the unique labels (from the flower_labels.csv)\n",
    "df = pd.read_csv('clusters.csv')\n",
    "label = df['label'].tolist()\n",
    "unique_labels = list(set(label))"
   ]
  },
  {
   "cell_type": "code",
   "execution_count": 85,
   "metadata": {},
   "outputs": [
    {
     "data": {
      "text/plain": [
       "(25, 4096)"
      ]
     },
     "execution_count": 85,
     "metadata": {},
     "output_type": "execute_result"
    }
   ],
   "source": [
    "feat.shape"
   ]
  },
  {
   "cell_type": "code",
   "execution_count": 86,
   "metadata": {},
   "outputs": [],
   "source": [
    "# reduce the amount of dimensions in the feature vector\n",
    "pca = PCA(n_components=10, random_state=22)\n",
    "pca.fit(feat)\n",
    "x = pca.transform(feat)"
   ]
  },
  {
   "cell_type": "code",
   "execution_count": 87,
   "metadata": {},
   "outputs": [
    {
     "name": "stdout",
     "output_type": "stream",
     "text": [
      "Components before PCA: 4096\n",
      "Components after PCA: 10\n"
     ]
    }
   ],
   "source": [
    "print(f\"Components before PCA: {feat.shape[1]}\")\n",
    "print(f\"Components after PCA: {pca.n_components}\")"
   ]
  },
  {
   "cell_type": "code",
   "execution_count": 88,
   "metadata": {},
   "outputs": [
    {
     "data": {
      "text/plain": [
       "KMeans(n_clusters=3, random_state=22)"
      ]
     },
     "execution_count": 88,
     "metadata": {},
     "output_type": "execute_result"
    }
   ],
   "source": [
    "# cluster feature vectors\n",
    "kmeans = KMeans(n_clusters=3, random_state=22)\n",
    "kmeans.fit(x)"
   ]
  },
  {
   "cell_type": "code",
   "execution_count": 89,
   "metadata": {},
   "outputs": [
    {
     "data": {
      "text/plain": [
       "array([2, 0, 2, 2, 1, 2, 1, 0, 0, 2, 2, 0, 1, 1, 1, 1, 1, 1, 1, 2, 0, 0,\n",
       "       2, 1, 1], dtype=int32)"
      ]
     },
     "execution_count": 89,
     "metadata": {},
     "output_type": "execute_result"
    }
   ],
   "source": [
    "kmeans.labels_"
   ]
  },
  {
   "cell_type": "code",
   "execution_count": 90,
   "metadata": {},
   "outputs": [],
   "source": [
    "# holds the cluster id and the images { id: [images] }\n",
    "groups = {}\n",
    "for file, cluster in zip(filenames,kmeans.labels_):\n",
    "    if cluster not in groups.keys():\n",
    "        groups[cluster] = []\n",
    "        groups[cluster].append(file)\n",
    "    else:\n",
    "        groups[cluster].append(file)"
   ]
  },
  {
   "cell_type": "code",
   "execution_count": 91,
   "metadata": {},
   "outputs": [],
   "source": [
    "# Create folders for each cluster in host\n",
    "for i in range(3):\n",
    "    # makeadir() evaluates your condition\n",
    "    out_path = 'D:\\Clusters\\{}'.format(i)\n",
    "    if not os.path.exists(out_path):\n",
    "        os.mkdir(out_path)"
   ]
  },
  {
   "cell_type": "code",
   "execution_count": 92,
   "metadata": {},
   "outputs": [],
   "source": [
    "pbar2 = ProgressBar()"
   ]
  },
  {
   "cell_type": "code",
   "execution_count": 93,
   "metadata": {},
   "outputs": [
    {
     "name": "stderr",
     "output_type": "stream",
     "text": [
      " 76% |######################################################                  |\r"
     ]
    },
    {
     "ename": "IsADirectoryError",
     "evalue": "[Errno 21] Is a directory: '/home/developer/notebooks/training/D:\\\\Clusters\\\\0'",
     "output_type": "error",
     "traceback": [
      "\u001b[0;31m---------------------------------------------------------------------------\u001b[0m",
      "\u001b[0;31mIsADirectoryError\u001b[0m                         Traceback (most recent call last)",
      "\u001b[0;32m<ipython-input-93-5e05da65d8db>\u001b[0m in \u001b[0;36m<module>\u001b[0;34m\u001b[0m\n\u001b[1;32m     10\u001b[0m     \u001b[0mout_path\u001b[0m \u001b[0;34m=\u001b[0m \u001b[0;34mr'/home/developer/notebooks/Clusters/{}'\u001b[0m\u001b[0;34m.\u001b[0m\u001b[0mformat\u001b[0m\u001b[0;34m(\u001b[0m\u001b[0mfolder\u001b[0m\u001b[0;34m)\u001b[0m\u001b[0;34m\u001b[0m\u001b[0;34m\u001b[0m\u001b[0m\n\u001b[1;32m     11\u001b[0m     \u001b[0mimage_select\u001b[0m \u001b[0;34m=\u001b[0m \u001b[0msource_list\u001b[0m\u001b[0;34m[\u001b[0m\u001b[0mi\u001b[0m\u001b[0;34m]\u001b[0m\u001b[0;34m\u001b[0m\u001b[0;34m\u001b[0m\u001b[0m\n\u001b[0;32m---> 12\u001b[0;31m     \u001b[0mshutil\u001b[0m\u001b[0;34m.\u001b[0m\u001b[0mcopy\u001b[0m\u001b[0;34m(\u001b[0m\u001b[0mimage_select\u001b[0m\u001b[0;34m,\u001b[0m \u001b[0mout_path\u001b[0m\u001b[0;34m)\u001b[0m\u001b[0;34m\u001b[0m\u001b[0;34m\u001b[0m\u001b[0m\n\u001b[0m",
      "\u001b[0;32m/usr/lib/python3.6/shutil.py\u001b[0m in \u001b[0;36mcopy\u001b[0;34m(src, dst, follow_symlinks)\u001b[0m\n\u001b[1;32m    243\u001b[0m     \u001b[0;32mif\u001b[0m \u001b[0mos\u001b[0m\u001b[0;34m.\u001b[0m\u001b[0mpath\u001b[0m\u001b[0;34m.\u001b[0m\u001b[0misdir\u001b[0m\u001b[0;34m(\u001b[0m\u001b[0mdst\u001b[0m\u001b[0;34m)\u001b[0m\u001b[0;34m:\u001b[0m\u001b[0;34m\u001b[0m\u001b[0;34m\u001b[0m\u001b[0m\n\u001b[1;32m    244\u001b[0m         \u001b[0mdst\u001b[0m \u001b[0;34m=\u001b[0m \u001b[0mos\u001b[0m\u001b[0;34m.\u001b[0m\u001b[0mpath\u001b[0m\u001b[0;34m.\u001b[0m\u001b[0mjoin\u001b[0m\u001b[0;34m(\u001b[0m\u001b[0mdst\u001b[0m\u001b[0;34m,\u001b[0m \u001b[0mos\u001b[0m\u001b[0;34m.\u001b[0m\u001b[0mpath\u001b[0m\u001b[0;34m.\u001b[0m\u001b[0mbasename\u001b[0m\u001b[0;34m(\u001b[0m\u001b[0msrc\u001b[0m\u001b[0;34m)\u001b[0m\u001b[0;34m)\u001b[0m\u001b[0;34m\u001b[0m\u001b[0;34m\u001b[0m\u001b[0m\n\u001b[0;32m--> 245\u001b[0;31m     \u001b[0mcopyfile\u001b[0m\u001b[0;34m(\u001b[0m\u001b[0msrc\u001b[0m\u001b[0;34m,\u001b[0m \u001b[0mdst\u001b[0m\u001b[0;34m,\u001b[0m \u001b[0mfollow_symlinks\u001b[0m\u001b[0;34m=\u001b[0m\u001b[0mfollow_symlinks\u001b[0m\u001b[0;34m)\u001b[0m\u001b[0;34m\u001b[0m\u001b[0;34m\u001b[0m\u001b[0m\n\u001b[0m\u001b[1;32m    246\u001b[0m     \u001b[0mcopymode\u001b[0m\u001b[0;34m(\u001b[0m\u001b[0msrc\u001b[0m\u001b[0;34m,\u001b[0m \u001b[0mdst\u001b[0m\u001b[0;34m,\u001b[0m \u001b[0mfollow_symlinks\u001b[0m\u001b[0;34m=\u001b[0m\u001b[0mfollow_symlinks\u001b[0m\u001b[0;34m)\u001b[0m\u001b[0;34m\u001b[0m\u001b[0;34m\u001b[0m\u001b[0m\n\u001b[1;32m    247\u001b[0m     \u001b[0;32mreturn\u001b[0m \u001b[0mdst\u001b[0m\u001b[0;34m\u001b[0m\u001b[0;34m\u001b[0m\u001b[0m\n",
      "\u001b[0;32m/usr/lib/python3.6/shutil.py\u001b[0m in \u001b[0;36mcopyfile\u001b[0;34m(src, dst, follow_symlinks)\u001b[0m\n\u001b[1;32m    118\u001b[0m         \u001b[0mos\u001b[0m\u001b[0;34m.\u001b[0m\u001b[0msymlink\u001b[0m\u001b[0;34m(\u001b[0m\u001b[0mos\u001b[0m\u001b[0;34m.\u001b[0m\u001b[0mreadlink\u001b[0m\u001b[0;34m(\u001b[0m\u001b[0msrc\u001b[0m\u001b[0;34m)\u001b[0m\u001b[0;34m,\u001b[0m \u001b[0mdst\u001b[0m\u001b[0;34m)\u001b[0m\u001b[0;34m\u001b[0m\u001b[0;34m\u001b[0m\u001b[0m\n\u001b[1;32m    119\u001b[0m     \u001b[0;32melse\u001b[0m\u001b[0;34m:\u001b[0m\u001b[0;34m\u001b[0m\u001b[0;34m\u001b[0m\u001b[0m\n\u001b[0;32m--> 120\u001b[0;31m         \u001b[0;32mwith\u001b[0m \u001b[0mopen\u001b[0m\u001b[0;34m(\u001b[0m\u001b[0msrc\u001b[0m\u001b[0;34m,\u001b[0m \u001b[0;34m'rb'\u001b[0m\u001b[0;34m)\u001b[0m \u001b[0;32mas\u001b[0m \u001b[0mfsrc\u001b[0m\u001b[0;34m:\u001b[0m\u001b[0;34m\u001b[0m\u001b[0;34m\u001b[0m\u001b[0m\n\u001b[0m\u001b[1;32m    121\u001b[0m             \u001b[0;32mwith\u001b[0m \u001b[0mopen\u001b[0m\u001b[0;34m(\u001b[0m\u001b[0mdst\u001b[0m\u001b[0;34m,\u001b[0m \u001b[0;34m'wb'\u001b[0m\u001b[0;34m)\u001b[0m \u001b[0;32mas\u001b[0m \u001b[0mfdst\u001b[0m\u001b[0;34m:\u001b[0m\u001b[0;34m\u001b[0m\u001b[0;34m\u001b[0m\u001b[0m\n\u001b[1;32m    122\u001b[0m                 \u001b[0mcopyfileobj\u001b[0m\u001b[0;34m(\u001b[0m\u001b[0mfsrc\u001b[0m\u001b[0;34m,\u001b[0m \u001b[0mfdst\u001b[0m\u001b[0;34m)\u001b[0m\u001b[0;34m\u001b[0m\u001b[0;34m\u001b[0m\u001b[0m\n",
      "\u001b[0;31mIsADirectoryError\u001b[0m: [Errno 21] Is a directory: '/home/developer/notebooks/training/D:\\\\Clusters\\\\0'"
     ]
    }
   ],
   "source": [
    "# Put all images of each cluster into thier respective folders on host for examination\n",
    "source_path = r\"/home/developer/notebooks/training\"\n",
    "# Create array from images in source path\n",
    "source_list = []\n",
    "for images in os.scandir(source_path):\n",
    "        source_list.append(images)\n",
    "# For loor copies images over into the clustered folders\n",
    "for i in pbar2(range(len(kmeans.labels_))):\n",
    "    folder = kmeans.labels_[i]\n",
    "    out_path = r'/home/developer/notebooks/Clusters/{}'.format(folder)\n",
    "    image_select = source_list[i]\n",
    "    shutil.copy(image_select, out_path)"
   ]
  },
  {
   "cell_type": "code",
   "execution_count": 94,
   "metadata": {},
   "outputs": [],
   "source": [
    "pbar3 = ProgressBar()"
   ]
  },
  {
   "cell_type": "code",
   "execution_count": 61,
   "metadata": {},
   "outputs": [
    {
     "ename": "NameError",
     "evalue": "name 'cluster_path' is not defined",
     "output_type": "error",
     "traceback": [
      "\u001b[0;31m---------------------------------------------------------------------------\u001b[0m",
      "\u001b[0;31mNameError\u001b[0m                                 Traceback (most recent call last)",
      "\u001b[0;32m<ipython-input-61-d0c878afff41>\u001b[0m in \u001b[0;36m<module>\u001b[0;34m\u001b[0m\n\u001b[1;32m      3\u001b[0m \u001b[0mout_path\u001b[0m \u001b[0;34m=\u001b[0m \u001b[0;34mr\"D:\\Clusters\"\u001b[0m\u001b[0;34m\u001b[0m\u001b[0;34m\u001b[0m\u001b[0m\n\u001b[1;32m      4\u001b[0m \u001b[0mcluster_list\u001b[0m \u001b[0;34m=\u001b[0m \u001b[0;34m[\u001b[0m\u001b[0;34m]\u001b[0m\u001b[0;34m\u001b[0m\u001b[0;34m\u001b[0m\u001b[0m\n\u001b[0;32m----> 5\u001b[0;31m \u001b[0;32mfor\u001b[0m \u001b[0mcluster\u001b[0m \u001b[0;32min\u001b[0m \u001b[0mpbar3\u001b[0m\u001b[0;34m(\u001b[0m\u001b[0mos\u001b[0m\u001b[0;34m.\u001b[0m\u001b[0mlistdir\u001b[0m\u001b[0;34m(\u001b[0m\u001b[0mcluster_path\u001b[0m\u001b[0;34m)\u001b[0m\u001b[0;34m)\u001b[0m\u001b[0;34m:\u001b[0m\u001b[0;34m\u001b[0m\u001b[0;34m\u001b[0m\u001b[0m\n\u001b[0m\u001b[1;32m      6\u001b[0m     \u001b[0mcluster_path\u001b[0m \u001b[0;34m=\u001b[0m \u001b[0;34mr'D:\\Clusters\\{}'\u001b[0m\u001b[0;34m.\u001b[0m\u001b[0mformat\u001b[0m\u001b[0;34m(\u001b[0m\u001b[0mcluster\u001b[0m\u001b[0;34m)\u001b[0m\u001b[0;34m\u001b[0m\u001b[0;34m\u001b[0m\u001b[0m\n\u001b[1;32m      7\u001b[0m     \u001b[0;32mfor\u001b[0m \u001b[0mimage_in_cluster\u001b[0m \u001b[0;32min\u001b[0m \u001b[0mos\u001b[0m\u001b[0;34m.\u001b[0m\u001b[0mscandir\u001b[0m\u001b[0;34m(\u001b[0m\u001b[0mcluster_path\u001b[0m\u001b[0;34m)\u001b[0m\u001b[0;34m:\u001b[0m\u001b[0;34m\u001b[0m\u001b[0;34m\u001b[0m\u001b[0m\n",
      "\u001b[0;31mNameError\u001b[0m: name 'cluster_path' is not defined"
     ]
    }
   ],
   "source": [
    "# Return images back to training folder\n",
    "source_path = r\"D:\\training\"\n",
    "out_path = r\"D:\\Clusters\"\n",
    "cluster_list = []\n",
    "for cluster in pbar3(os.listdir(cluster_path)):\n",
    "    cluster_path = r'D:\\Clusters\\{}'.format(cluster)\n",
    "    for image_in_cluster in os.scandir(cluster_path):\n",
    "        shutil.copy(image_in_cluster, source_path)"
   ]
  },
  {
   "cell_type": "code",
   "execution_count": 95,
   "metadata": {
    "scrolled": true
   },
   "outputs": [
    {
     "data": {
      "text/plain": [
       "6"
      ]
     },
     "execution_count": 95,
     "metadata": {},
     "output_type": "execute_result"
    }
   ],
   "source": [
    "len(groups[0])"
   ]
  },
  {
   "cell_type": "code",
   "execution_count": 96,
   "metadata": {},
   "outputs": [
    {
     "data": {
      "text/plain": [
       "['15294400118148667240022217d1ed446e9a3a5fef13d33facf.png',\n",
       " '15294400520892604650022217d1ed446e9a3a5fef13d33facf.png',\n",
       " '15294400049202706410022217d1ed446e9a3a5fef13d33facf.png',\n",
       " '15294401101527582580022217d1ed446e9a3a5fef13d33facf.png',\n",
       " '15294400135241633900022217d1ed446e9a3a5fef13d33facf.png',\n",
       " '15294401026577431840022217d1ed446e9a3a5fef13d33facf.png']"
      ]
     },
     "execution_count": 96,
     "metadata": {},
     "output_type": "execute_result"
    }
   ],
   "source": [
    "# view the filenames in cluster 0\n",
    "groups[0]"
   ]
  },
  {
   "cell_type": "code",
   "execution_count": 97,
   "metadata": {},
   "outputs": [],
   "source": [
    "# function that lets you view a cluster (based on identifier)        \n",
    "def view_cluster(cluster):\n",
    "    plt.figure(figsize = (25,25));\n",
    "    # gets the list of filenames for a cluster\n",
    "    files = groups[cluster]\n",
    "    # only allow up to 30 images to be shown at a time\n",
    "    if len(files) > 30:\n",
    "        print(f\"Clipping cluster size from {len(files)} to 30\")\n",
    "        files = files[:29]\n",
    "    # plot each image in the cluster\n",
    "    for index, file in enumerate(files):\n",
    "        plt.subplot(10,10,index+1);\n",
    "        img = load_img(file)\n",
    "        img = np.array(img)\n",
    "        plt.imshow(img)\n",
    "        plt.axis('off')"
   ]
  },
  {
   "cell_type": "code",
   "execution_count": 98,
   "metadata": {},
   "outputs": [],
   "source": [
    "# this is just incase you want to see which value for k might be the best \n",
    "sse = []\n",
    "list_k = list(range(2, 20))"
   ]
  },
  {
   "cell_type": "code",
   "execution_count": 99,
   "metadata": {},
   "outputs": [],
   "source": [
    "pbar1 = ProgressBar()"
   ]
  },
  {
   "cell_type": "code",
   "execution_count": null,
   "metadata": {},
   "outputs": [
    {
     "name": "stderr",
     "output_type": "stream",
     "text": [
      " 66% |################################################                        |\r"
     ]
    }
   ],
   "source": [
    "for k in pbar1(list_k):\n",
    "    km = KMeans(n_clusters=k, random_state=22)\n",
    "    km.fit(x)\n",
    "    \n",
    "    sse.append(km.inertia_)"
   ]
  },
  {
   "cell_type": "code",
   "execution_count": 119,
   "metadata": {
    "scrolled": false
   },
   "outputs": [
    {
     "data": {
      "image/png": "[encoded data removed]",
      "text/plain": [
       "<Figure size 432x432 with 1 Axes>"
      ]
     },
     "metadata": {
      "needs_background": "light"
     },
     "output_type": "display_data"
    }
   ],
   "source": [
    "# Plot sse against k\n",
    "plt.figure(figsize=(6, 6))\n",
    "plt.plot(list_k, sse)\n",
    "plt.xlabel(r'Number of clusters *k*')\n",
    "plt.ylabel('Sum of squared distance');"
   ]
  }
 ],
 "metadata": {
  "kernelspec": {
   "display_name": "Python 3",
   "language": "python",
   "name": "python3"
  },
  "language_info": {
   "codemirror_mode": {
    "name": "ipython",
    "version": 3
   },
   "file_extension": ".py",
   "mimetype": "text/x-python",
   "name": "python",
   "nbconvert_exporter": "python",
   "pygments_lexer": "ipython3",
   "version": "3.6.9"
  }
 },
 "nbformat": 4,
 "nbformat_minor": 5
}
