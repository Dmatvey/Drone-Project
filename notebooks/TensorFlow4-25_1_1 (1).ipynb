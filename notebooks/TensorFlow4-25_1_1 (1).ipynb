{
 "cells": [
  {
   "cell_type": "code",
   "execution_count": null,
   "metadata": {},
   "outputs": [],
   "source": [
    "# For PySpark\n",
    "import pyspark\n",
    "from pyspark.sql import SparkSession\n",
    "from pyspark.sql.types import StructType, StructField, StringType\n",
    "\n",
    "# For Delta Lake\n",
    "from delta import *\n",
    "\n",
    "# Working with images\n",
    "from PIL import Image\n",
    "import io\n",
    "import base64\n",
    "\n",
    "import pickle\n",
    "from itertools import groupby\n",
    "\n",
    "# for loading/processing the images  \n",
    "from keras.preprocessing.image import load_img \n",
    "from keras.preprocessing.image import img_to_array \n",
    "from keras.applications.vgg16 import preprocess_input\n",
    "\n",
    "# models \n",
    "from keras.applications.vgg16 import VGG16 \n",
    "from keras.models import Model\n",
    "\n",
    "# clustering and dimension reduction\n",
    "from sklearn.cluster import KMeans\n",
    "from sklearn.decomposition import PCA\n",
    "from sklearn.datasets import load_digits\n",
    "\n",
    "import numpy as np\n",
    "import matplotlib.pyplot as plt\n",
    "\n",
    "import time\n",
    "\n",
    "import os\n",
    "import sys\n",
    "os.environ[\"SPARK_HOME\"] = \"/opt/spark-3.0.1-bin-hadoop2.7\"\n",
    "os.environ['PYSPARK_PYTHON'] = sys.executable\n",
    "os.environ['PYSPARK_DRIVER_PYTHON'] = sys.executable"
   ]
  },
  {
   "cell_type": "code",
   "execution_count": null,
   "metadata": {},
   "outputs": [],
   "source": [
    "# These 2 links include the jar files needed to interact with AWS S3\n",
    "!wget https://repo1.maven.org/maven2/com/amazonaws/aws-java-sdk/1.7.4/aws-java-sdk-1.7.4.jar -P $SPARK_HOME/jars/\n",
    "!wget https://repo1.maven.org/maven2/org/apache/hadoop/hadoop-aws/2.7.3/hadoop-aws-2.7.3.jar -P $SPARK_HOME/jars/"
   ]
  },
  {
   "cell_type": "code",
   "execution_count": null,
   "metadata": {},
   "outputs": [],
   "source": [
    "AWS_ACCESS_KEY=\"*****************\"\n",
    "AWS_SECRET_KEY=\"*****************************\""
   ]
  },
  {
   "cell_type": "code",
   "execution_count": null,
   "metadata": {},
   "outputs": [],
   "source": [
    "# Create a Spark Session\n",
    "spark = SparkSession.builder.appName(\"drones\") \\\n",
    "    .config(\"spark.executor.memory\", \"12g\") \\\n",
    "    .config(\"spark.driver.memory\", \"12g\") \\\n",
    "    .config(\"spark.jars.packages\", \"io.delta:delta-core_2.12:0.7.0\") \\\n",
    "    .config(\"spark.delta.logStore.class\", \"org.apache.spark.sql.delta.storage.S3SingleDriverLogStore\") \\\n",
    "    .config('spark.hadoop.fs.s3a.access.key', AWS_ACCESS_KEY) \\\n",
    "    .config('spark.hadoop.fs.s3a.secret.key', AWS_SECRET_KEY) \\\n",
    "    .getOrCreate()"
   ]
  },
  {
   "cell_type": "code",
   "execution_count": null,
   "metadata": {},
   "outputs": [],
   "source": [
    "with open('img_path.pickle','rb') as file:\n",
    "    img_path = pickle.load(file)\n",
    "len(img_path)"
   ]
  },
  {
   "cell_type": "code",
   "execution_count": null,
   "metadata": {},
   "outputs": [],
   "source": [
    "one_tenth = len(img_path)//10\n",
    "\n",
    "img_paths1TB = img_path[:3*one_tenth]\n",
    "len(img_paths1TB)"
   ]
  },
  {
   "cell_type": "code",
   "execution_count": null,
   "metadata": {},
   "outputs": [],
   "source": [
    "# get a list of flight ids (folder names)\n",
    "flight_ids = []\n",
    "for path_name in img_paths1TB: #switch name\n",
    "    flight_ids.append(path_name[13:45])\n",
    "len(flight_ids)"
   ]
  },
  {
   "cell_type": "code",
   "execution_count": null,
   "metadata": {},
   "outputs": [],
   "source": [
    "flight_img_counts = [len(list(group)) for key, group in groupby(flight_ids)]\n",
    "print(flight_img_counts[0:10])"
   ]
  },
  {
   "cell_type": "code",
   "execution_count": null,
   "metadata": {},
   "outputs": [],
   "source": [
    "len(flight_img_counts)"
   ]
  },
  {
   "cell_type": "code",
   "execution_count": null,
   "metadata": {},
   "outputs": [],
   "source": [
    "model = VGG16()\n",
    "model = Model(inputs = model.inputs, outputs = model.layers[-2].output)"
   ]
  },
  {
   "cell_type": "code",
   "execution_count": null,
   "metadata": {},
   "outputs": [],
   "source": [
    "training = {}"
   ]
  },
  {
   "cell_type": "code",
   "execution_count": null,
   "metadata": {
    "scrolled": true
   },
   "outputs": [],
   "source": [
    "k = 0\n",
    "for i in range(len(flight_img_counts[55:])):\n",
    "    i = i + 56\n",
    "    starting_time = time.time()\n",
    "    prv_n_images = sum(flight_img_counts[0:i])\n",
    "    flight_id = flight_ids[prv_n_images]\n",
    "    \n",
    "    s3_bucket_name = \"s3a://drones-project-test/\" + flight_id + \"/\"\n",
    "    df = spark.read.format(\"delta\").load(s3_bucket_name)\n",
    "    print(\"Total time to read back flight\", i, \"(#\", flight_id, \") from our s3 bucket took\", time.time()-starting_time, \"seconds.\")\n",
    "    \n",
    "    images_df = df.rdd.map(lambda x: x[\"img_content\"])\n",
    "    n_images = images_df.count()\n",
    "    content = images_df.take(n_images)\n",
    "    print(\"Starting feature extraction for flight\", i, \"at:\", time.time()-starting_time)\n",
    "    one_fifth = n_images//5\n",
    "    for j in range(one_fifth): #test set: 4*one_fifth\n",
    "        png_decoded = base64.b64decode(content[j][1:]) # j + one_fifth\n",
    "        print(\"Image decoded\", time.time()-starting_time)\n",
    "        img = Image.open(io.BytesIO(png_decoded))\n",
    "        img2 = np.array(img)\n",
    "        print(\"Reshaping image\", time.time()-starting_time)\n",
    "        reshaped_img = img2.reshape(1,224,224,3)\n",
    "        imgx = preprocess_input(reshaped_img)\n",
    "        print(\"Extracting features\", time.time()-starting_time)\n",
    "        features = model.predict(imgx, use_multiprocessing=True)\n",
    "         k = k + 1\n",
    "    \n",
    "    print(\"Done with flight\", i)\n",
    "    del images_df\n",
    "    del df\n",
    "    del s3_bucket_name\n",
    "    del content"
   ]
  },
  {
   "cell_type": "code",
   "execution_count": null,
   "metadata": {},
   "outputs": [],
   "source": [
    "len(training.keys())"
   ]
  },
  {
   "cell_type": "code",
   "execution_count": null,
   "metadata": {},
   "outputs": [],
   "source": [
    "training2 = training"
   ]
  },
  {
   "cell_type": "code",
   "execution_count": null,
   "metadata": {
    "scrolled": true
   },
   "outputs": [],
   "source": [
    "with open('features.pickle','wb') as file:\n",
    "     pickle.dump(training2, file)"
   ]
  },
  {
   "cell_type": "code",
   "execution_count": null,
   "metadata": {},
   "outputs": [],
   "source": [
    "with open('features.pickle','rb') as file:\n",
    "    training = pickle.load(file)"
   ]
  },
  {
   "cell_type": "code",
   "execution_count": null,
   "metadata": {},
   "outputs": [],
   "source": [
    "feat = np.array(list(training.values())).reshape(-1,4096)\n",
    "pca = PCA(n_components = 20, random_state = 22)\n",
    "pca.fit(feat)\n",
    "x = pca.transform(feat)\n",
    "print(\"Components before PCA:\", feat.shape[1])\n",
    "print(\"Components after PCA:\", pca.n_components)"
   ]
  },
  {
   "cell_type": "code",
   "execution_count": null,
   "metadata": {},
   "outputs": [],
   "source": [
    "kmeans = KMeans(n_clusters=4, random_state=22)\n",
    "kmeans.fit(x)\n",
    "kmeans.labels_"
   ]
  },
  {
   "cell_type": "code",
   "execution_count": null,
   "metadata": {},
   "outputs": [],
   "source": [
    "kmeans.labels_[0:2000]"
   ]
  },
  {
   "cell_type": "code",
   "execution_count": null,
   "metadata": {},
   "outputs": [],
   "source": [
    "sse = []\n",
    "list_k = list(range(2, 20))\n",
    "for k in list_k:\n",
    "    km = KMeans(n_clusters=k, random_state=22)\n",
    "    km.fit(x)\n",
    "    \n",
    "    sse.append(km.inertia_)\n",
    "# Plot sse against k\n",
    "plt.figure(figsize=(6, 6))\n",
    "plt.plot(list_k, sse)\n",
    "plt.xlabel(r'Number of clusters *k*')\n",
    "plt.ylabel('Sum of squared distance')"
   ]
  }
 ],
 "metadata": {
  "kernelspec": {
   "display_name": "Python 3",
   "language": "python",
   "name": "python3"
  },
  "language_info": {
   "codemirror_mode": {
    "name": "ipython",
    "version": 3
   },
   "file_extension": ".py",
   "mimetype": "text/x-python",
   "name": "python",
   "nbconvert_exporter": "python",
   "pygments_lexer": "ipython3",
   "version": "3.6.9"
  }
 },
 "nbformat": 4,
 "nbformat_minor": 4
}
