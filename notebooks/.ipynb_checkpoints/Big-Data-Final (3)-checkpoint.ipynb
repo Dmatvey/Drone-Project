{
 "cells": [
  {
   "cell_type": "code",
   "execution_count": 1,
   "metadata": {},
   "outputs": [],
   "source": [
    "# For extracting files from Amazon S3 Buckets\n",
    "import boto3\n",
    "from botocore import UNSIGNED\n",
    "from botocore.client import Config\n",
    "\n",
    "# For PySpark\n",
    "import pyspark\n",
    "from pyspark.sql import SparkSession\n",
    "from pyspark.sql.types import StructType, StructField, StringType\n",
    "\n",
    "# For Delta Lake\n",
    "from delta import *\n",
    "\n",
    "# For VGG16 Model\n",
    "from keras.applications.vgg16 import VGG16 \n",
    "from keras.models import Model\n",
    "from keras.applications.vgg16 import preprocess_input\n",
    "\n",
    "# For PCA and Kmeans\n",
    "from sklearn.decomposition import PCA\n",
    "from sklearn.cluster import KMeans\n",
    "import matplotlib.pyplot as plt\n",
    "\n",
    "# Working with images\n",
    "from PIL import Image\n",
    "import io\n",
    "import base64\n",
    "import numpy as np"
   ]
  },
  {
   "cell_type": "code",
   "execution_count": 2,
   "metadata": {
    "scrolled": true
   },
   "outputs": [
    {
     "name": "stderr",
     "output_type": "stream",
     "text": [
      "/usr/local/lib/python3.6/dist-packages/boto3/compat.py:88: PythonDeprecationWarning: Boto3 will no longer support Python 3.6 starting May 30, 2022. To continue receiving service updates, bug fixes, and security updates please upgrade to Python 3.7 or later. More information can be found here: https://aws.amazon.com/blogs/developer/python-support-policy-updates-for-aws-sdks-and-tools/\n",
      "  warnings.warn(warning, PythonDeprecationWarning)\n"
     ]
    }
   ],
   "source": [
    "# Connect to Amazon S3 Buckets\n",
    "s3 = boto3.resource('s3', config=Config(signature_version=UNSIGNED))\n",
    "bucket = s3.Bucket(\"airborne-obj-detection-challenge-training\")\n",
    "bucket_objects = bucket.objects.filter(Prefix=\"part1/Images/1497343b9d90411db5c305e785be9032\")"
   ]
  },
  {
   "cell_type": "code",
   "execution_count": 3,
   "metadata": {},
   "outputs": [],
   "source": [
    "import os\n",
    "import sys\n",
    "os.environ[\"SPARK_HOME\"] = \"/opt/spark-3.0.1-bin-hadoop2.7\"\n",
    "os.environ['PYSPARK_PYTHON'] = sys.executable\n",
    "os.environ['PYSPARK_DRIVER_PYTHON'] = sys.executable"
   ]
  },
  {
   "cell_type": "code",
   "execution_count": 4,
   "metadata": {},
   "outputs": [
    {
     "name": "stdout",
     "output_type": "stream",
     "text": [
      "--2022-05-12 14:45:26--  https://repo1.maven.org/maven2/com/amazonaws/aws-java-sdk/1.7.4/aws-java-sdk-1.7.4.jar\n",
      "Resolving repo1.maven.org (repo1.maven.org)... 151.101.148.209\n",
      "Connecting to repo1.maven.org (repo1.maven.org)|151.101.148.209|:443... connected.\n",
      "HTTP request sent, awaiting response... 200 OK\n",
      "Length: 11948376 (11M) [application/java-archive]\n",
      "Saving to: ‘/opt/spark-3.0.1-bin-hadoop2.7/jars/aws-java-sdk-1.7.4.jar’\n",
      "\n",
      "aws-java-sdk-1.7.4. 100%[===================>]  11.39M  5.44MB/s    in 2.1s    \n",
      "\n",
      "2022-05-12 14:45:29 (5.44 MB/s) - ‘/opt/spark-3.0.1-bin-hadoop2.7/jars/aws-java-sdk-1.7.4.jar’ saved [11948376/11948376]\n",
      "\n",
      "--2022-05-12 14:45:29--  https://repo1.maven.org/maven2/org/apache/hadoop/hadoop-aws/2.7.3/hadoop-aws-2.7.3.jar\n",
      "Resolving repo1.maven.org (repo1.maven.org)... 151.101.148.209\n",
      "Connecting to repo1.maven.org (repo1.maven.org)|151.101.148.209|:443... connected.\n",
      "HTTP request sent, awaiting response... 200 OK\n",
      "Length: 126287 (123K) [application/java-archive]\n",
      "Saving to: ‘/opt/spark-3.0.1-bin-hadoop2.7/jars/hadoop-aws-2.7.3.jar’\n",
      "\n",
      "hadoop-aws-2.7.3.ja 100%[===================>] 123.33K  --.-KB/s    in 0.05s   \n",
      "\n",
      "2022-05-12 14:45:29 (2.19 MB/s) - ‘/opt/spark-3.0.1-bin-hadoop2.7/jars/hadoop-aws-2.7.3.jar’ saved [126287/126287]\n",
      "\n"
     ]
    }
   ],
   "source": [
    "# These 2 links include the jar files needed to interact with AWS S3\n",
    "!wget https://repo1.maven.org/maven2/com/amazonaws/aws-java-sdk/1.7.4/aws-java-sdk-1.7.4.jar -P $SPARK_HOME/jars/\n",
    "!wget https://repo1.maven.org/maven2/org/apache/hadoop/hadoop-aws/2.7.3/hadoop-aws-2.7.3.jar -P $SPARK_HOME/jars/"
   ]
  },
  {
   "cell_type": "code",
   "execution_count": 5,
   "metadata": {
    "scrolled": false
   },
   "outputs": [
    {
     "data": {
      "text/html": [
       "\n",
       "            <div>\n",
       "                <p><b>SparkSession - in-memory</b></p>\n",
       "                \n",
       "        <div>\n",
       "            <p><b>SparkContext</b></p>\n",
       "\n",
       "            <p><a href=\"http://156912c50157:4040\">Spark UI</a></p>\n",
       "\n",
       "            <dl>\n",
       "              <dt>Version</dt>\n",
       "                <dd><code>v3.0.1</code></dd>\n",
       "              <dt>Master</dt>\n",
       "                <dd><code>local[*]</code></dd>\n",
       "              <dt>AppName</dt>\n",
       "                <dd><code>drones</code></dd>\n",
       "            </dl>\n",
       "        </div>\n",
       "        \n",
       "            </div>\n",
       "        "
      ],
      "text/plain": [
       "<pyspark.sql.session.SparkSession at 0x7f048e136208>"
      ]
     },
     "execution_count": 5,
     "metadata": {},
     "output_type": "execute_result"
    }
   ],
   "source": [
    "spark = SparkSession.builder.appName(\"drones\") \\\n",
    "    .config(\"spark.executor.memory\", \"15g\") \\\n",
    "    .config(\"spark.driver.memory\", \"15g\") \\\n",
    "    .config(\"spark.jars.packages\", \"io.delta:delta-core_2.12:0.7.0\") \\\n",
    "    .config(\"spark.delta.logStore.class\", \"org.apache.spark.sql.delta.storage.S3SingleDriverLogStore\") \\\n",
    "    .getOrCreate()\n",
    "\n",
    "sc = spark.sparkContext\n",
    "spark"
   ]
  },
  {
   "cell_type": "code",
   "execution_count": 6,
   "metadata": {},
   "outputs": [],
   "source": [
    "# Connect to Amazon S3 Buckets\n",
    "s3 = boto3.resource('s3', config=Config(signature_version=UNSIGNED))\n",
    "bucket = s3.Bucket(\"airborne-obj-detection-challenge-training\")\n",
    "bucket_objects = bucket.objects.filter(Prefix=\"part1/Images/1497343b9d90411db5c305e785be9032\")"
   ]
  },
  {
   "cell_type": "code",
   "execution_count": null,
   "metadata": {},
   "outputs": [],
   "source": [
    "# Store file paths and image content\n",
    "img_path = []\n",
    "img_content = []\n",
    "\n",
    "schema = StructType([StructField(\"img_path\", StringType()),\n",
    "                    StructField(\"img_content\", StringType())])\n",
    "\n",
    "for obj in bucket_objects:\n",
    "    img_path = []\n",
    "    img_content = []\n",
    "    if obj.key.endswith(\"171497343b9d90411db5c305e785be9032.png\"):\n",
    "        img_path.append(obj.key)\n",
    "        temp_img = obj.get()['Body'].read()\n",
    "        \n",
    "        img = Image.open(io.BytesIO(temp_img))\n",
    "        img1 = img.convert('RGB').resize((224,224))\n",
    "        \n",
    "        buffered = io.BytesIO()\n",
    "        img1.save(buffered, format = \"png\")\n",
    "        png_encoded = base64.b64encode(buffered.getvalue())\n",
    "        \n",
    "        img_content.append(str(png_encoded))\n",
    "        \n",
    "        img_path_rdd = sc.parallelize(img_path)\n",
    "        img_content_rdd = sc.parallelize(img_content)\n",
    "        zipped_rdd = img_path_rdd.zip(img_content_rdd).collect()\n",
    "\n",
    "        df = spark.createDataFrame(zipped_rdd, schema)\n",
    "        df.write.format(\"delta\").mode(\"append\").save(\"s3a://drones-project-test/sample-table5/\")"
   ]
  },
  {
   "cell_type": "code",
   "execution_count": 8,
   "metadata": {},
   "outputs": [
    {
     "data": {
      "text/plain": [
       "40"
      ]
     },
     "execution_count": 8,
     "metadata": {},
     "output_type": "execute_result"
    }
   ],
   "source": [
    "# Read in delta table\n",
    "df = spark.read.format(\"delta\").load(\"s3a://drones-project-test/sample-table5/\")\n",
    "df.count()"
   ]
  },
  {
   "cell_type": "code",
   "execution_count": 9,
   "metadata": {
    "scrolled": true
   },
   "outputs": [
    {
     "name": "stdout",
     "output_type": "stream",
     "text": [
      "+--------------------+--------------------+\n",
      "|            img_path|         img_content|\n",
      "+--------------------+--------------------+\n",
      "|part1/Images/1497...|b'iVBORw0KGgoAAAA...|\n",
      "|part1/Images/1497...|b'iVBORw0KGgoAAAA...|\n",
      "|part1/Images/1497...|b'iVBORw0KGgoAAAA...|\n",
      "|part1/Images/1497...|b'iVBORw0KGgoAAAA...|\n",
      "|part1/Images/1497...|b'iVBORw0KGgoAAAA...|\n",
      "|part1/Images/1497...|b'iVBORw0KGgoAAAA...|\n",
      "|part1/Images/1497...|b'iVBORw0KGgoAAAA...|\n",
      "|part1/Images/1497...|b'iVBORw0KGgoAAAA...|\n",
      "|part1/Images/1497...|b'iVBORw0KGgoAAAA...|\n",
      "|part1/Images/1497...|b'iVBORw0KGgoAAAA...|\n",
      "|part1/Images/1497...|b'iVBORw0KGgoAAAA...|\n",
      "|part1/Images/1497...|b'iVBORw0KGgoAAAA...|\n",
      "|part1/Images/1497...|b'iVBORw0KGgoAAAA...|\n",
      "|part1/Images/1497...|b'iVBORw0KGgoAAAA...|\n",
      "|part1/Images/1497...|b'iVBORw0KGgoAAAA...|\n",
      "|part1/Images/1497...|b'iVBORw0KGgoAAAA...|\n",
      "|part1/Images/1497...|b'iVBORw0KGgoAAAA...|\n",
      "|part1/Images/1497...|b'iVBORw0KGgoAAAA...|\n",
      "|part1/Images/1497...|b'iVBORw0KGgoAAAA...|\n",
      "|part1/Images/1497...|b'iVBORw0KGgoAAAA...|\n",
      "|part1/Images/1497...|b'iVBORw0KGgoAAAA...|\n",
      "|part1/Images/1497...|b'iVBORw0KGgoAAAA...|\n",
      "|part1/Images/1497...|b'iVBORw0KGgoAAAA...|\n",
      "|part1/Images/1497...|b'iVBORw0KGgoAAAA...|\n",
      "|part1/Images/1497...|b'iVBORw0KGgoAAAA...|\n",
      "|part1/Images/1497...|b'iVBORw0KGgoAAAA...|\n",
      "|part1/Images/1497...|b'iVBORw0KGgoAAAA...|\n",
      "|part1/Images/1497...|b'iVBORw0KGgoAAAA...|\n",
      "|part1/Images/1497...|b'iVBORw0KGgoAAAA...|\n",
      "|part1/Images/1497...|b'iVBORw0KGgoAAAA...|\n",
      "|part1/Images/1497...|b'iVBORw0KGgoAAAA...|\n",
      "|part1/Images/1497...|b'iVBORw0KGgoAAAA...|\n",
      "|part1/Images/1497...|b'iVBORw0KGgoAAAA...|\n",
      "|part1/Images/1497...|b'iVBORw0KGgoAAAA...|\n",
      "|part1/Images/1497...|b'iVBORw0KGgoAAAA...|\n",
      "|part1/Images/1497...|b'iVBORw0KGgoAAAA...|\n",
      "|part1/Images/1497...|b'iVBORw0KGgoAAAA...|\n",
      "|part1/Images/1497...|b'iVBORw0KGgoAAAA...|\n",
      "|part1/Images/1497...|b'iVBORw0KGgoAAAA...|\n",
      "|part1/Images/1497...|b'iVBORw0KGgoAAAA...|\n",
      "+--------------------+--------------------+\n",
      "\n"
     ]
    }
   ],
   "source": [
    "df.show(40)"
   ]
  },
  {
   "cell_type": "code",
   "execution_count": null,
   "metadata": {},
   "outputs": [],
   "source": [
    "df.explain(mode='cost')"
   ]
  },
  {
   "cell_type": "code",
   "execution_count": null,
   "metadata": {},
   "outputs": [],
   "source": [
    "# keep only image content\n",
    "images_df = df.rdd.map(lambda x: x[\"img_content\"])\n",
    "n_images = images_df.count()\n",
    "content = images_df.take(n_images)"
   ]
  },
  {
   "cell_type": "code",
   "execution_count": null,
   "metadata": {},
   "outputs": [],
   "source": [
    "# Setup VGG16 Model\n",
    "model = VGG16()\n",
    "model = Model(inputs = model.inputs, outputs = model.layers[-2].output)"
   ]
  },
  {
   "cell_type": "code",
   "execution_count": null,
   "metadata": {},
   "outputs": [],
   "source": [
    "data = {}\n",
    "\n",
    "for i in range(n_images):\n",
    "    png_decoded = base64.b64decode(content[i][1:])\n",
    "    img = Image.open(io.BytesIO(png_decoded))\n",
    "    img2 = np.array(img)\n",
    "    reshaped_img = img2.reshape(1,224,224,3)\n",
    "    imgx = preprocess_input(reshaped_img)\n",
    "    features = model.predict(imgx, use_multiprocessing=True)\n",
    "    data[i] = features"
   ]
  },
  {
   "cell_type": "code",
   "execution_count": null,
   "metadata": {},
   "outputs": [],
   "source": [
    "feat = np.array(list(data.values())).reshape(-1,4096)\n",
    "pca = PCA(n_components = 20, random_state = 22)\n",
    "pca.fit(feat)\n",
    "x = pca.transform(feat)\n",
    "print(\"Components before PCA:\", feat.shape[1])\n",
    "print(\"Components after PCA:\", pca.n_components)"
   ]
  },
  {
   "cell_type": "code",
   "execution_count": null,
   "metadata": {},
   "outputs": [],
   "source": [
    "kmeans = KMeans(n_clusters=4, random_state=22)\n",
    "kmeans.fit(x)\n",
    "kmeans.labels_"
   ]
  },
  {
   "cell_type": "code",
   "execution_count": null,
   "metadata": {},
   "outputs": [],
   "source": [
    "sse = []\n",
    "list_k = list(range(2, 20))\n",
    "for k in list_k:\n",
    "    km = KMeans(n_clusters=k, random_state=22)\n",
    "    km.fit(x)\n",
    "    \n",
    "    sse.append(km.inertia_)\n",
    "# Plot sse against k\n",
    "plt.figure(figsize=(6, 6))\n",
    "plt.plot(list_k, sse)\n",
    "plt.xlabel(r'Number of clusters *k*')\n",
    "plt.ylabel('Sum of squared distance')"
   ]
  },
  {
   "cell_type": "code",
   "execution_count": null,
   "metadata": {},
   "outputs": [],
   "source": []
  }
 ],
 "metadata": {
  "kernelspec": {
   "display_name": "Python 3",
   "language": "python",
   "name": "python3"
  },
  "language_info": {
   "codemirror_mode": {
    "name": "ipython",
    "version": 3
   },
   "file_extension": ".py",
   "mimetype": "text/x-python",
   "name": "python",
   "nbconvert_exporter": "python",
   "pygments_lexer": "ipython3",
   "version": "3.6.9"
  }
 },
 "nbformat": 4,
 "nbformat_minor": 4
}
